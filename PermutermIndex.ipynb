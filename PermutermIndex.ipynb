{
 "cells": [
  {
   "cell_type": "markdown",
   "id": "7ed497fe-caf5-433d-a044-fe59e5ded305",
   "metadata": {},
   "source": [
    "# 6. a)Create a Permuterm index from the given documents"
   ]
  },
  {
   "cell_type": "code",
   "execution_count": 2,
   "id": "d1b9b5d9-d13f-4c19-bc03-83f4e5c17b13",
   "metadata": {},
   "outputs": [],
   "source": [
    "class PermutermIndex:\n",
    "\n",
    "    def __init__(self):\n",
    "        self.index = {}\n",
    "        self.invIdx = {}\n",
    "        \n",
    "    def buildIndex(self):\n",
    "        for i in range(1, 21):\n",
    "            with open(f\"Data\\doc{i}.txt\") as f:\n",
    "                text = f.read()\n",
    "                text = text.lower()\n",
    "                text = text.split()\n",
    "                text = sorted(text)\n",
    "            for term in text:\n",
    "                if term in self.invIdx:\n",
    "                    if i in self.invIdx[term]:\n",
    "                        continue\n",
    "                    else:\n",
    "                        self.invIdx[term].append(i)\n",
    "                else:\n",
    "                    self.invIdx[term] = [i]\n",
    "        for key, val in self.invIdx.items():\n",
    "            k = key+'$'\n",
    "            self.index.update({k: {key: val}})\n",
    "            temp = k[1:] + k[0]\n",
    "            while temp != k:\n",
    "                self.index.update({temp: {key: val}})\n",
    "                temp = temp[1:] + temp[0]\n",
    "        "
   ]
  },
  {
   "cell_type": "markdown",
   "id": "0bff7cb4-7b4b-42c1-894d-a0b8ff9e9793",
   "metadata": {},
   "source": [
    "----"
   ]
  },
  {
   "cell_type": "markdown",
   "id": "1f7f043c-f5c8-4c44-8d3d-5f4318b5f495",
   "metadata": {},
   "source": [
    "# 6. b)Process wildcard queries using Permuterm Index"
   ]
  },
  {
   "cell_type": "code",
   "execution_count": 3,
   "id": "1149e6e1-3056-4b4d-b7bd-c14f7ac6f971",
   "metadata": {},
   "outputs": [],
   "source": [
    "class Query:\n",
    "    def __init__(self, query):\n",
    "        self.query = query\n",
    "        self.permuterm = PermutermIndex()\n",
    "        self.permuterm.buildIndex()\n",
    "    \n",
    "    def processQuery(self):\n",
    "        ans = []\n",
    "        tokens = self.query.split()\n",
    "\n",
    "        for token in tokens:\n",
    "            token += '$'\n",
    "            while token[-1] != '*':\n",
    "                token = token[1:] + token[0]\n",
    "            token = token[:-1]\n",
    "            likely = dict(filter(lambda item: item[0].startswith(token), self.permuterm.index.items()))\n",
    "            ans.extend([i for i in likely.values()])\n",
    "        return ans"
   ]
  },
  {
   "cell_type": "code",
   "execution_count": 4,
   "id": "ef87eae0-1697-475a-94ec-5cf766ebdccd",
   "metadata": {},
   "outputs": [
    {
     "name": "stdout",
     "output_type": "stream",
     "text": [
      "Results:\n",
      "\t{'applications': [1]}\n",
      "\t{'appliances': [14]}\n"
     ]
    }
   ],
   "source": [
    "q = Query('app*')\n",
    "ans = q.processQuery()\n",
    "print(\"Results:\")\n",
    "for i in ans:\n",
    "    print(f\"\\t{i}\")"
   ]
  }
 ],
 "metadata": {
  "kernelspec": {
   "display_name": "Python 3 (ipykernel)",
   "language": "python",
   "name": "python3"
  },
  "language_info": {
   "codemirror_mode": {
    "name": "ipython",
    "version": 3
   },
   "file_extension": ".py",
   "mimetype": "text/x-python",
   "name": "python",
   "nbconvert_exporter": "python",
   "pygments_lexer": "ipython3",
   "version": "3.11.4"
  }
 },
 "nbformat": 4,
 "nbformat_minor": 5
}
