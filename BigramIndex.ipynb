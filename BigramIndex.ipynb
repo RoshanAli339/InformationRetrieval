{
 "cells": [
  {
   "cell_type": "markdown",
   "id": "acc9298b-0321-4f4f-8926-0be30389f3c0",
   "metadata": {},
   "source": [
    "# 7. a) Build a Bigram Index"
   ]
  },
  {
   "cell_type": "code",
   "execution_count": 1,
   "id": "68eb64ac-889b-4432-9421-799b3dfd43b1",
   "metadata": {},
   "outputs": [],
   "source": [
    "import os"
   ]
  },
  {
   "cell_type": "code",
   "execution_count": 2,
   "id": "e7c5b48f-efe7-4885-bfcb-fcfc891c5041",
   "metadata": {},
   "outputs": [],
   "source": [
    "class BigramIndex:\n",
    "\n",
    "    def __init__(self):\n",
    "        self.index = {}\n",
    "        self.invIdx = {}\n",
    "        self.docs = []\n",
    "        \n",
    "    def buildIndex(self):\n",
    "        files = os.listdir('Cranfield Data Set')\n",
    "        for i in range(20):\n",
    "            with open(f\"Cranfield Data Set\\{files[i]}\") as f:\n",
    "                text = f.read()\n",
    "                text = text.lower()\n",
    "                self.docs.append(text)\n",
    "                text = sorted(text.split())\n",
    "            for term in text:\n",
    "                if term in self.invIdx:\n",
    "                    if i not in self.invIdx[term]:\n",
    "                        self.invIdx[term].append(i)\n",
    "                else:\n",
    "                    self.invIdx[term] = [i]\n",
    "        for k in self.invIdx.keys():\n",
    "            term = '$' + k + '$'\n",
    "            tokens = [term[i:i+2] for i in range(len(term)-1)]\n",
    "            for i in tokens:\n",
    "                if i not in self.index:\n",
    "                    self.index.update({i: [k]})\n",
    "                else:\n",
    "                    self.index[i].append(k)"
   ]
  },
  {
   "cell_type": "code",
   "execution_count": 23,
   "id": "2fab8c16-1e55-4ec5-894d-1fd674ea6f19",
   "metadata": {},
   "outputs": [],
   "source": [
    "bgm = BigramIndex()\n",
    "bgm.buildIndex()"
   ]
  },
  {
   "cell_type": "markdown",
   "id": "93060650-9be0-44bf-bf78-f54fa8cbd5ab",
   "metadata": {},
   "source": [
    "----"
   ]
  },
  {
   "cell_type": "markdown",
   "id": "ed405998-ce72-446c-a72e-97b8ab30e07a",
   "metadata": {},
   "source": [
    "# 7. b) Process wildcard queries"
   ]
  },
  {
   "cell_type": "code",
   "execution_count": 20,
   "id": "61740529-7b04-4cc0-a90e-be5f32b58382",
   "metadata": {},
   "outputs": [],
   "source": [
    "class Query:\n",
    "\n",
    "    def __init__(self, query):\n",
    "        self.query = query\n",
    "        self.bigram = BigramIndex()\n",
    "        self.bigram.buildIndex()\n",
    "\n",
    "    def processQuery(self):\n",
    "        token = '$' + self.query\n",
    "        tokens = [token[i:i+2] for i in range(len(token)-1)]\n",
    "        ans = []\n",
    "        for t in tokens:\n",
    "            if t in self.bigram.index:\n",
    "                for k in self.bigram.index[t]:\n",
    "                    if k not in ans:\n",
    "                        ans.append(k)\n",
    "        if self.query[0] == '*':\n",
    "            result = [{d: self.bigram.invIdx[d]} for d in ans if d.endswith(self.query[1:])]    \n",
    "        elif self.query[-1] == '*':\n",
    "            result = [{d: self.bigram.invIdx[d]} for d in ans if d.startswith(self.query[:-1])]\n",
    "        else:\n",
    "            qt = self.query.split('*')\n",
    "            result = [{d: self.bigram.invIdx[d]} for d in ans if d.startswith(qt[0]) and d.endswith(qt[1])]\n",
    "        print(\"Documents retrieved: \")\n",
    "        for term in result:\n",
    "            for k, v in term.items():\n",
    "                print(k)\n",
    "                for i in v:\n",
    "                    print(self.bigram.docs[i])\n",
    "                    print()"
   ]
  },
  {
   "cell_type": "code",
   "execution_count": 23,
   "id": "faf862ee-03e6-41ba-a4c2-b1ca31268f7e",
   "metadata": {},
   "outputs": [
    {
     "name": "stdin",
     "output_type": "stream",
     "text": [
      "Enter the query: trans*\n"
     ]
    },
    {
     "name": "stdout",
     "output_type": "stream",
     "text": [
      "Documents retrieved: \n",
      "transient\n",
      "analytic solutions are presented for the transient heat conduction in composite slabs exposed at one surface to a triangular heat rate   this type of heating rate may occur for example during aerodynamic heating \n",
      "\n",
      "transition\n",
      "experiments were performed in the 12 in supersonic wind tunnel of the jet propulsion laboratory of the california institute of technology to investigate the effect of three dimensional roughness elements (spheres) on boundary layer transition on a tained at local mach numbers of 190 271 and 367 by varying trip size position spacing and reynolds number per inch  the results indicate that (1) transition from laminar to turbulent flow induced by three dimensional roughness elements begins when the double row of spiral vortices trailing each element contaminates and breaks down the surrounding field of vorticity (2) transition appears rather suddenly becoming more violent with increasing roughness height relative to the boundary layer thickness (3) after the breakdown of the vorticity field the strength of the spiral vortices may still persist in the sublayer of the ensuing turbulent flow (4) lateral spacing of roughness elements has little effect upon the initial breakdown (contamination) of the laminar flow and (5) the trip reynolds number where u and v are the velocity and kinematic viscosity at the outer edge of the boundary layer and k is roughness height such that transition occurs at the roughness position varies as the position reynolds number to the one fourth power viz where x is trip position \n",
      "\n",
      "in his study of the effect of roughness on transition h l dryden found on the basis of available data that the effect of a two dimensional roughness element such as a trip wire could be represented reasonably well in terms of a functional relation between and where is the reynolds number of transition based on distance from the leading edge is the height of the roughness element and is the boundary layer displacement thickness at the position of the element   at his suggestion some additional data were obtained primarily to extend the range to higher values of during the course of an investigation of transition on a flat plate conducted at the national bureau of standards   after the results on the twodimensional roughness elements were obtained it appeared to be desirable to see whether a row of three dimensional roughness elements would behave in the same way \n",
      "\n",
      "an investigation of transition and skin friction on an insulated flat plate 5 by 26 in was made in the galcit 5 by 5 in hypersonic wind tunnel at a nominal mach number of 58    the phosphorescent lacquer technique was used for transition detection and was found to be in good agreement with total head rake measurements along the plate surface and pitot boundarylayer surveys   it was found that the boundary layer was laminar at reynolds numbers of at least 5 x 10   transverse contamination caused by the turbulent boundary layer on the tunnel sidewall originated far downstream of the flat plate leading edge at reynolds numbers of 15 to 2 x 10 and spread at a uniform angle of 5 compared to 9 degree in low speed flow    the effect of two dimensional and local disturbances was investigated   the technique of air injection into the boundary layer as a means of hastening transition was extensively used  although the onset of transition occurred at reynolds numbers as low as 10 a fully developed turbulent boundary layer was not obtained at reynolds numbers much below 2 x 10 regardless of the amount of air injected    a qualitative discussion of these results is given with emphasis on the possibility of a greater stability of the laminar boundary layer in hypersonic flow than at lower speeds    direct skin friction measurements were made by means of the floating element technique over a range of reynolds numbers verified as being laminar over the complete range   with air injection turbulent shear was obtained only for reynolds numbers greater than 2 x 10 this value being in good agreement with earlier results of this investigation   the turbulent skin friction coefficient was found to be approximately 040 of that for incompressible flow for a constant value of r and 046 for an effective reynolds number between 5 and 6 x 10 \n",
      "\n",
      "transverse\n",
      "an investigation of transition and skin friction on an insulated flat plate 5 by 26 in was made in the galcit 5 by 5 in hypersonic wind tunnel at a nominal mach number of 58    the phosphorescent lacquer technique was used for transition detection and was found to be in good agreement with total head rake measurements along the plate surface and pitot boundarylayer surveys   it was found that the boundary layer was laminar at reynolds numbers of at least 5 x 10   transverse contamination caused by the turbulent boundary layer on the tunnel sidewall originated far downstream of the flat plate leading edge at reynolds numbers of 15 to 2 x 10 and spread at a uniform angle of 5 compared to 9 degree in low speed flow    the effect of two dimensional and local disturbances was investigated   the technique of air injection into the boundary layer as a means of hastening transition was extensively used  although the onset of transition occurred at reynolds numbers as low as 10 a fully developed turbulent boundary layer was not obtained at reynolds numbers much below 2 x 10 regardless of the amount of air injected    a qualitative discussion of these results is given with emphasis on the possibility of a greater stability of the laminar boundary layer in hypersonic flow than at lower speeds    direct skin friction measurements were made by means of the floating element technique over a range of reynolds numbers verified as being laminar over the complete range   with air injection turbulent shear was obtained only for reynolds numbers greater than 2 x 10 this value being in good agreement with earlier results of this investigation   the turbulent skin friction coefficient was found to be approximately 040 of that for incompressible flow for a constant value of r and 046 for an effective reynolds number between 5 and 6 x 10 \n",
      "\n",
      "transfer\n",
      "the dominating factors in structural design of high speed aircraft are thermal and aeroelastic in origin   the subject matter is concerned largely with a discussion of these factors and their interrelation with one another   a summary is presented of some of the analytical and experimental tools available to aeronautical engineers to meet the demands of high speed flight upon aircraft structures   the state of the art with respect to heat transfer from the boundary layer into the structure modes of failure under combined load as well as thermal inputs and acrothermoelasticity is discussed   methods of attacking and alleviating structural and aeroelastic problems of high speed flight are summarized   finally some avenues of fundamental research are suggested \n",
      "\n",
      "transformation\n",
      "the transformation of the compressible turbulent boundarylayer equations to their incompressible equivalent is demonstrated analytically   the transformation is essentially the same as that for the laminar layer first given by stewartson except that the explicit relation between the viscosity and temperature is not required   a key point in the analysis is the modification of the stream function to include a mean of the fluctuating components and the postulate that the apparent turbulent shear associated with an elemental mass remains invariant in the transformation    the values of the incompressible friction coefficients and of pressure rise causing separation thus transformed show good agreement with the experimentally measured and independently reported results   an application of the transformation to the self preserving boundary layers and to the computations of general boundary layer flow is shown \n",
      "\n",
      "in connection with a study of the wakes behind bodies in hypersonic flow carried out for the missile and space vehicle division of the general electric company it was desired to estimate the eddy viscosity in axisymmetric compressible wakes   because of the lack of applicable experimental data it was found necessary to make such an estimate by rationally extending the few available data for incompressible flows to the compressible case   this suggested the application and extension of the transformations applied to turbulent boundary layers in reference infinitesimal mass are invariant with transformation mager showed that the partial differential equations for the compressible turbulent boundary layer can be transformed to incompressible form   the validity of this assumption and of the transformations was established for several boundary layer flows by comparison with experiment \n",
      "\n",
      "transformed\n",
      "the transformation of the compressible turbulent boundarylayer equations to their incompressible equivalent is demonstrated analytically   the transformation is essentially the same as that for the laminar layer first given by stewartson except that the explicit relation between the viscosity and temperature is not required   a key point in the analysis is the modification of the stream function to include a mean of the fluctuating components and the postulate that the apparent turbulent shear associated with an elemental mass remains invariant in the transformation    the values of the incompressible friction coefficients and of pressure rise causing separation thus transformed show good agreement with the experimentally measured and independently reported results   an application of the transformation to the self preserving boundary layers and to the computations of general boundary layer flow is shown \n",
      "\n",
      "in connection with a study of the wakes behind bodies in hypersonic flow carried out for the missile and space vehicle division of the general electric company it was desired to estimate the eddy viscosity in axisymmetric compressible wakes   because of the lack of applicable experimental data it was found necessary to make such an estimate by rationally extending the few available data for incompressible flows to the compressible case   this suggested the application and extension of the transformations applied to turbulent boundary layers in reference infinitesimal mass are invariant with transformation mager showed that the partial differential equations for the compressible turbulent boundary layer can be transformed to incompressible form   the validity of this assumption and of the transformations was established for several boundary layer flows by comparison with experiment \n",
      "\n",
      "transformations\n",
      "in connection with a study of the wakes behind bodies in hypersonic flow carried out for the missile and space vehicle division of the general electric company it was desired to estimate the eddy viscosity in axisymmetric compressible wakes   because of the lack of applicable experimental data it was found necessary to make such an estimate by rationally extending the few available data for incompressible flows to the compressible case   this suggested the application and extension of the transformations applied to turbulent boundary layers in reference infinitesimal mass are invariant with transformation mager showed that the partial differential equations for the compressible turbulent boundary layer can be transformed to incompressible form   the validity of this assumption and of the transformations was established for several boundary layer flows by comparison with experiment \n",
      "\n"
     ]
    }
   ],
   "source": [
    "q = Query(input(\"Enter the query:\"))\n",
    "q.processQuery()\n",
    "# print(\"\\nBi-gram Index:\")\n",
    "# for key, val in q.bigram.index.items():\n",
    "#     print(key)\n",
    "#     for i in val:\n",
    "#         print(\"\\t\",i)"
   ]
  }
 ],
 "metadata": {
  "kernelspec": {
   "display_name": "Python 3 (ipykernel)",
   "language": "python",
   "name": "python3"
  },
  "language_info": {
   "codemirror_mode": {
    "name": "ipython",
    "version": 3
   },
   "file_extension": ".py",
   "mimetype": "text/x-python",
   "name": "python",
   "nbconvert_exporter": "python",
   "pygments_lexer": "ipython3",
   "version": "3.11.4"
  }
 },
 "nbformat": 4,
 "nbformat_minor": 5
}
