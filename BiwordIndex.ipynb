{
 "cells": [
  {
   "cell_type": "markdown",
   "id": "3da95b75",
   "metadata": {},
   "source": [
    "# 3. a) Create a Biword Index from the given documents"
   ]
  },
  {
   "cell_type": "code",
   "execution_count": 1,
   "id": "3febd2bf",
   "metadata": {},
   "outputs": [],
   "source": [
    "class Biword:\n",
    "    \n",
    "    def __init__(self):\n",
    "        self.index = {}\n",
    "        \n",
    "    def buildIndex(self):\n",
    "        for i in range(1, 21):\n",
    "            with open(f\"Data\\doc{i}.txt\", \"r\") as f:\n",
    "                text = f.read()\n",
    "                text = text.split()\n",
    "                for j in range(len(text)-1):\n",
    "                    s = text[j] + ' ' + text[j + 1]\n",
    "                    if s in self.index:\n",
    "                        if i in self.index[s]:\n",
    "                            continue\n",
    "                        else:\n",
    "                            self.index[s].append(i)\n",
    "                    else:\n",
    "                        self.index[s] = [i]"
   ]
  },
  {
   "cell_type": "code",
   "execution_count": 2,
   "id": "0fce3ef6",
   "metadata": {},
   "outputs": [],
   "source": [
    "bwd = Biword()\n",
    "bwd.buildIndex()"
   ]
  },
  {
   "cell_type": "markdown",
   "id": "58713989",
   "metadata": {},
   "source": [
    "# 3. b) Process phrase queries using Biword Index"
   ]
  },
  {
   "cell_type": "code",
   "execution_count": 3,
   "id": "f7c0e56b",
   "metadata": {},
   "outputs": [],
   "source": [
    "class Query:\n",
    "    \n",
    "    def __init__(self, query):\n",
    "        self.query = query\n",
    "        self.query = self.query.replace('(', '( ')\n",
    "        self.query = self.query.replace(')', ' )')\n",
    "        self.bwd = Biword()\n",
    "        self.bwd.buildIndex()\n",
    "        \n",
    "    def and_operator(self, postings1, postings2):\n",
    "        p1=0\n",
    "        p2=0\n",
    "        result=[]\n",
    "        while p1<len(postings1) and p2<len(postings2):\n",
    "            if postings1[p1]==postings2[p2]:\n",
    "                result.append(postings1[p1])\n",
    "                p1+=1\n",
    "                p2+=1\n",
    "            elif postings1[p1]<postings2[p2]:\n",
    "                p1+=1\n",
    "            else:\n",
    "                p2+=1\n",
    "        return result\n",
    "    def processBiword(self):\n",
    "        if self.query == \"\":\n",
    "            return []\n",
    "        q = self.query.split()\n",
    "        st = \"\"\n",
    "        biword_tokens = []\n",
    "        for i in range(len(q)-1):\n",
    "            st += q[i]\n",
    "            st += ' '\n",
    "            st += q[i+1]\n",
    "            if st in self.bwd.index:\n",
    "                biword_tokens.append(self.bwd.index[st])\n",
    "            else:\n",
    "                biword_tokens.append([])\n",
    "            st = \"\"\n",
    "        i = 0\n",
    "        while i < len(biword_tokens) - 1:\n",
    "            terms = [biword_tokens[i], biword_tokens[i+1]]\n",
    "            del biword_tokens[i]\n",
    "            biword_tokens[i] = self.and_operator(terms[0], terms[1])\n",
    "            if len(biword_tokens) == 1:\n",
    "                break\n",
    "        return biword_tokens[0]"
   ]
  },
  {
   "cell_type": "code",
   "execution_count": 6,
   "id": "e8cd4f14",
   "metadata": {},
   "outputs": [
    {
     "name": "stdout",
     "output_type": "stream",
     "text": [
      "[11, 18]\n"
     ]
    }
   ],
   "source": [
    "query = \"artificial general\"\n",
    "q = Query(query)\n",
    "ans = q.processBiword()\n",
    "print(ans)"
   ]
  }
 ],
 "metadata": {
  "kernelspec": {
   "display_name": "Python 3 (ipykernel)",
   "language": "python",
   "name": "python3"
  },
  "language_info": {
   "codemirror_mode": {
    "name": "ipython",
    "version": 3
   },
   "file_extension": ".py",
   "mimetype": "text/x-python",
   "name": "python",
   "nbconvert_exporter": "python",
   "pygments_lexer": "ipython3",
   "version": "3.11.4"
  }
 },
 "nbformat": 4,
 "nbformat_minor": 5
}
