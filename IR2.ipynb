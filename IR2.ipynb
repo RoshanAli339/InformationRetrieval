{
 "cells": [
  {
   "cell_type": "markdown",
   "id": "88075501-eeb7-4b60-a634-e408dad8cb3e",
   "metadata": {},
   "source": [
    "## 2. a) Create an **_Inverted Index_** for the given documents."
   ]
  },
  {
   "cell_type": "code",
   "execution_count": 19,
   "id": "fccb922e-65e3-4b91-998f-e5a9886203e3",
   "metadata": {},
   "outputs": [],
   "source": [
    "# a class to create objects for each term, with the term, frequency of the term in all documents\n",
    "# an the set of postings in which documents the term is present\n",
    "class term:\n",
    "    def __init__(self, s, freq, postings=set()):\n",
    "        self.s = s\n",
    "        self.freq = freq\n",
    "        self.postings = postings"
   ]
  },
  {
   "cell_type": "code",
   "execution_count": 20,
   "id": "8e046435-6dd6-40f7-a2f5-01e473ca29a4",
   "metadata": {},
   "outputs": [],
   "source": [
    "def invertedIndex(docs, n):\n",
    "    # for each term in the documents convert it into lowercase and note the document number\n",
    "    # repeated terms occur with different document numbers or same. Refer to the model in textbook\n",
    "    terms = []\n",
    "    for i in range(n):\n",
    "        terms += [[j.lower(), i+1] for j in docs[i].split()]\n",
    "    \n",
    "    # sort the terms list in lexicographic order\n",
    "    terms = sorted(terms)\n",
    "\n",
    "    # a list for storing the objects of each term\n",
    "    termPostings = []\n",
    "\n",
    "    # iterating through terms list\n",
    "    i = 0\n",
    "    while i < len(terms):\n",
    "        \n",
    "        # postings list stores the document numbers where the term occurs\n",
    "        postings = [terms[i][1]]\n",
    "\n",
    "        # freq stores the number of times the term has occured in all the documents\n",
    "        freq = 1\n",
    "\n",
    "        # now we iterate the terms list from i+1 to the end of the list and check for matching terms\n",
    "        j = i + 1\n",
    "\n",
    "        # we used the comparison condition within the while statement instead of a seperate if statement inside the loop\n",
    "        # because the terms are sorted and matching terms would be adjacent to each other\n",
    "        while j < len(terms) and terms[i][0] == terms[j][0]:\n",
    "\n",
    "            # append the document number of matching term to the postings list\n",
    "            postings.append(terms[j][1])\n",
    "            \n",
    "            # incrementing the frequency of the term\n",
    "            freq += 1\n",
    "            j += 1\n",
    "\n",
    "        # creating and appending a term object to the termPostings list\n",
    "        termPostings.append(term(terms[i][0], freq, set(postings)))\n",
    "\n",
    "        # now start the outer loop from the next term as we have iterated the similar terms\n",
    "        i = j\n",
    "\n",
    "    # removing the document numbers and assigning only the terms and removing duplicates and sorting\n",
    "    for i in range(len(terms)):\n",
    "        terms[i] = terms[i][0]\n",
    "    terms = sorted(list(set(terms)))\n",
    "\n",
    "    # printing the inverted index \n",
    "    for i in termPostings:\n",
    "        print(i.s, i.freq, i.postings)\n",
    "    return (terms, termPostings)"
   ]
  },
  {
   "cell_type": "code",
   "execution_count": 14,
   "id": "96be0dec",
   "metadata": {},
   "outputs": [
    {
     "name": "stdin",
     "output_type": "stream",
     "text": [
      "Enter the number of documents:  4\n"
     ]
    },
    {
     "name": "stdout",
     "output_type": "stream",
     "text": [
      "Enter the contents of each document: \n"
     ]
    },
    {
     "name": "stdin",
     "output_type": "stream",
     "text": [
      "\tDocument 1:  breakthrough drug for schizophrenia\n",
      "\tDocument 2:  new schizophrenia drug\n",
      "\tDocument 3:  new approach for treatment of schizophrenia\n",
      "\tDocument 4:  new hopes for schizophrenia patients\n"
     ]
    },
    {
     "name": "stdout",
     "output_type": "stream",
     "text": [
      "approach 1 {3}\n",
      "breakthrough 1 {1}\n",
      "drug 2 {1, 2}\n",
      "for 3 {1, 3, 4}\n",
      "hopes 1 {4}\n",
      "new 3 {2, 3, 4}\n",
      "of 1 {3}\n",
      "patients 1 {4}\n",
      "schizophrenia 4 {1, 2, 3, 4}\n",
      "treatment 1 {3}\n"
     ]
    }
   ],
   "source": [
    "n = int(input(\"Enter the number of documents: \"))\n",
    "docs = []\n",
    "print(\"Enter the contents of each document: \")\n",
    "for i in range(n):\n",
    "    docs.append(input(f\"\\tDocument {i+1}: \"))\n",
    "terms, termPostings = invertedIndex(docs, n)"
   ]
  },
  {
   "cell_type": "markdown",
   "id": "33ce356b-8dd8-4d89-ae02-5f1d2726de08",
   "metadata": {},
   "source": [
    "--- "
   ]
  },
  {
   "cell_type": "markdown",
   "id": "5b8380a5-4cbf-41d2-9377-1fc6c9fdbc2b",
   "metadata": {},
   "source": [
    "## 2. b) Process boolean queries"
   ]
  },
  {
   "cell_type": "code",
   "execution_count": 21,
   "id": "1eca655a-9e8b-40d9-a0a7-cd6f1b974dea",
   "metadata": {},
   "outputs": [],
   "source": [
    "'''\n",
    "This function is used to perform the AND, OR and NOT operations on any two (or one) term posting sets\n",
    "and returns the evaluated value\n",
    "'''\n",
    "\n",
    "def binOp(termPostings, op, n):\n",
    "    if op == 'NOT':\n",
    "        return termPostings[0] - set(range(1, n+1))\n",
    "    elif op == 'AND':\n",
    "        return termPostings[0].intersection(termPostings[1])\n",
    "    elif op == 'OR':\n",
    "        return termPostings[0].union(termPostings[1])"
   ]
  },
  {
   "cell_type": "code",
   "execution_count": 22,
   "id": "05bf042f-dc24-4c72-bf84-d2b28f9411a1",
   "metadata": {},
   "outputs": [],
   "source": [
    "'''\n",
    "This function is used to evaluate a query containing only AND and OR operators.\n",
    "First we would iterate through each item in the query list.\n",
    "If the item is an operand (term value from incidence matrix) we would append that to the vals list\n",
    "If the item is an operator we would set the flag value to 1 which is initially zero, so that next time an\n",
    "operand occurs we can append it to the vals list and send it for evaluation to the binOp() function and \n",
    "store the returned value to the vals list overwriting the previous contents.\n",
    "Finally we return the evaluated list of values.\n",
    "'''\n",
    "def andor(query, n):\n",
    "    vals = []\n",
    "    flag = 0\n",
    "    for i in range(len(query)):\n",
    "        if query[i] not in [\"AND\", \"OR\"]:\n",
    "            vals.append(query[i])\n",
    "            if flag == 1:\n",
    "                vals = binOp(vals, query[i-1], n)\n",
    "                flag = 0\n",
    "        else:\n",
    "            flag = 1\n",
    "    return vals"
   ]
  },
  {
   "cell_type": "code",
   "execution_count": 23,
   "id": "e705cbb7-9a39-4d0f-bd28-18aec70c05d3",
   "metadata": {},
   "outputs": [],
   "source": [
    "'''\n",
    "This function is used to first process all the sub queries inside paranthesis and then the NOT operations in the query.\n",
    "Explanation of each step is given in comments.\n",
    "'''\n",
    "def processQ(query, n):\n",
    "    # first we will be evaluating the sub queries in paranthesis, starting from the innermost set of paranthesis to the\n",
    "    # outermost\n",
    "\n",
    "    # start index sIdx is used to store the index of the innermost opening paranthesis\n",
    "    sIdx = 0\n",
    "    ans = []\n",
    "    \n",
    "    # iterate from beginngin to ending of the list\n",
    "    while sIdx < len(query):\n",
    "    \n",
    "        # finding the index of the first occurence of an opening paranthesis\n",
    "        sIdx = query.index('(') if '(' in query else -1\n",
    "        \n",
    "        # if there is no opening paranthesis, we don't need to process this, so we break out of loop\n",
    "        if sIdx == -1:\n",
    "            break\n",
    "        \n",
    "        # finding the index of the first occurence of an opening paranthesis which would be of the innermost set of paranthesis\n",
    "        eIdx = query.index(')', sIdx) \n",
    "        \n",
    "        # iterating from the first occurence of the opening paranthesis to the first occurence of the closing paranthesis\n",
    "        # because the innermost closing paranthesis would appear first\n",
    "        for i in range(sIdx, eIdx):\n",
    "            \n",
    "            # finding the next opening paranthesis from the sIdx if there is one\n",
    "            idx = query.index('(', sIdx+1) if '(' in query[sIdx+1:] else -1\n",
    "            \n",
    "            # if the next opening paranthesis occurs after the first closing paranthesis, it means that the idx\n",
    "            # is the index of opening paranthesis of another set of paranthesis\n",
    "            if idx > eIdx: break\n",
    "            \n",
    "            # assign the index of the next occurence of opening paranthesis to sIdx if there is one\n",
    "            sIdx = idx if idx != -1 else sIdx\n",
    "        \n",
    "        # now prorcess this inner query for NOT operations and the andor() function will be called for the query in paranthesis\n",
    "        # by recursively calling this function with the query shortened for the paranthesis\n",
    "        ans = processQ(query[sIdx+1:eIdx], n)\n",
    "        \n",
    "        # next we will delete the query and paranthesis part and replace it with the value returned\n",
    "        del query[sIdx+1:eIdx+1]\n",
    "        query[sIdx] = ans\n",
    "    \n",
    "    # this part is for evaluating NOT operations\n",
    "    idx = 0\n",
    "    while idx < len(query):\n",
    "        \n",
    "        # check for NOT operator by iterating from starting to the end of the query list\n",
    "        idx = query.index(\"NOT\") if \"NOT\" in query else -1\n",
    "        \n",
    "        # if no NOT operators are present break the loop\n",
    "        if idx == -1:\n",
    "            break\n",
    "        \n",
    "        # if NOT operation is present, send it to the binOp() function with values as the next operand after the NOT operator\n",
    "        ans = binOp([query[idx+1]], \"NOT\", n)\n",
    "        \n",
    "        # now we will replace the NOT operator and operand with the evaluated list\n",
    "        del query[idx+1]\n",
    "        query[idx] = ans\n",
    "    \n",
    "    # finally when there are no paranthesis and no NOT operators, we can call the andor() function and return the evaluated answer\n",
    "    query = andor(query, n)\n",
    "    return query"
   ]
  },
  {
   "cell_type": "code",
   "execution_count": 18,
   "id": "44829061-df8e-4e8d-a4a8-9ac68dfcfcc8",
   "metadata": {},
   "outputs": [
    {
     "name": "stdin",
     "output_type": "stream",
     "text": [
      "Enter number of documents:  4\n"
     ]
    },
    {
     "name": "stdout",
     "output_type": "stream",
     "text": [
      "Enter the contents of each document: \n"
     ]
    },
    {
     "name": "stdin",
     "output_type": "stream",
     "text": [
      "\tDocument 1:  breakthrough drug for schizophrenia\n",
      "\tDocument 2:  new schizophrenia drug\n",
      "\tDocument 3:  new approach for treatment of schizophrenia\n",
      "\tDocument 4:  new hopes for schizophrenia patients\n",
      "Enter the boolean query: asdf AND new\n"
     ]
    },
    {
     "name": "stdout",
     "output_type": "stream",
     "text": [
      "approach 1 {3}\n",
      "breakthrough 1 {1}\n",
      "drug 2 {1, 2}\n",
      "for 3 {1, 3, 4}\n",
      "hopes 1 {4}\n",
      "new 3 {2, 3, 4}\n",
      "of 1 {3}\n",
      "patients 1 {4}\n",
      "schizophrenia 4 {1, 2, 3, 4}\n",
      "treatment 1 {3}\n",
      "The request query is processed and the documents are: \n"
     ]
    }
   ],
   "source": [
    "n = int(input(\"Enter number of documents: \"))\n",
    "docs = []\n",
    "print(\"Enter the contents of each document: \")\n",
    "for i in range(n):\n",
    "    docs.append(input(f\"\\tDocument {i+1}: \"))\n",
    "query = input(\"Enter the boolean query:\").split()\n",
    "terms, termPostings = invertedIndex(docs, n)\n",
    "for i in range(len(query)):\n",
    "    if query[i] in terms:\n",
    "        query[i] = termPostings[terms.index(query[i])].postings\n",
    "    elif query[i] in [\"(\", \")\", \"NOT\", \"AND\", \"OR\"]:\n",
    "        continue\n",
    "    else:\n",
    "        query[i] = set()\n",
    "\n",
    "ans = processQ(query, 4)\n",
    "print(\"The request query is processed and the documents are: \")\n",
    "for i in ans:\n",
    "    print(f\"Document{i}: \", docs[i-1])"
   ]
  }
 ],
 "metadata": {
  "kernelspec": {
   "display_name": "Python 3 (ipykernel)",
   "language": "python",
   "name": "python3"
  },
  "language_info": {
   "codemirror_mode": {
    "name": "ipython",
    "version": 3
   },
   "file_extension": ".py",
   "mimetype": "text/x-python",
   "name": "python",
   "nbconvert_exporter": "python",
   "pygments_lexer": "ipython3",
   "version": "3.11.4"
  }
 },
 "nbformat": 4,
 "nbformat_minor": 5
}
