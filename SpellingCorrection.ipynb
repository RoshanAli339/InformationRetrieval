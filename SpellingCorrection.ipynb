{
 "cells": [
  {
   "cell_type": "markdown",
   "id": "b8134c16-3c55-42d3-8551-842d1dfc4d9d",
   "metadata": {},
   "source": [
    "# 8. Correct spellings in the query using edit distance"
   ]
  },
  {
   "cell_type": "code",
   "execution_count": 1,
   "id": "e6018992-2ce9-4d0b-9a50-7af2ceb9e9e4",
   "metadata": {},
   "outputs": [],
   "source": [
    "import pandas as pd\n",
    "import os"
   ]
  },
  {
   "cell_type": "code",
   "execution_count": 19,
   "id": "4a814c10-4cf0-4a0a-b73c-c0d8429dc3c6",
   "metadata": {},
   "outputs": [],
   "source": [
    "class PositionalIndex:\n",
    "    \n",
    "    def __init__(self):\n",
    "        self.index = {}\n",
    "        self.terms = []\n",
    "        self.docs = []\n",
    "        \n",
    "    def buildIndex(self):\n",
    "        files = os.listdir('Cranfield Data Set')\n",
    "        for i in range(20):\n",
    "            with open(f\"Cranfield Data Set/{files[i]}\", \"r\") as f:\n",
    "                text = f.read()\n",
    "                text = text.lower()\n",
    "                self.docs.append(text)\n",
    "                text = text.split()\n",
    "                self.terms.extend(text)\n",
    "            self.terms = sorted(list(set(self.terms)))\n",
    "            for j in range(len(text)):\n",
    "                if text[j] in self.index:\n",
    "                    if i in self.index[text[j]]:\n",
    "                        self.index[text[j]][i][0] += 1\n",
    "                        self.index[text[j]][i][1].append(j)\n",
    "                    else:    \n",
    "                        self.index[text[j]].update({i: [1, [j]]})\n",
    "                else:\n",
    "                    self.index[text[j]] = {i: [1, [j]]}"
   ]
  },
  {
   "cell_type": "code",
   "execution_count": 23,
   "id": "cda0d2d0-e2bd-4723-859f-5836b398cac6",
   "metadata": {},
   "outputs": [],
   "source": [
    "class Query:\n",
    "    \n",
    "    def __init__(self, query):\n",
    "        self.query = query\n",
    "        self.pos = PositionalIndex()\n",
    "        self.pos.buildIndex()\n",
    "\n",
    "    def spellingCorrection(self, word):\n",
    "        minDist = 99999\n",
    "        ans = []\n",
    "        minDistMats = []\n",
    "        for word2 in self.pos.terms:\n",
    "            mat = [[i if j==0 else j if i==0 else 0 for j in range(len(word2)+1)] for i in range(len(word)+1)]\n",
    "            for i in range(1, len(word)+1):\n",
    "                for j in range(1, len(word2)+1):\n",
    "                    mat[i][j] = min(mat[i-1][j-1]+(0 if word[i-1]==word2[j-1] else 1), mat[i-1][j]+1, mat[i][j-1]+1)\n",
    "            if mat[len(word)][len(word2)] < minDist:\n",
    "                minDist = mat[len(word)][len(word2)]\n",
    "                ans = [word2]\n",
    "                minDistMats = [mat]\n",
    "            elif mat[len(word)][len(word2)] == minDist:\n",
    "                minDist = mat[len(word)][len(word2)]\n",
    "                ans.append(word2)\n",
    "                minDistMats.append(mat)\n",
    "        for i in range(len(ans)):\n",
    "            df = pd.DataFrame(minDistMats[i], index=['']+[x for x in word], columns=['']+[x for x in ans[i]])\n",
    "            print(df)\n",
    "            prompt = input(f\"You searched for {word}, did you mean: {ans[i]}? (Y/N): \")\n",
    "            if prompt.lower() == 'y':\n",
    "                return ans[i]\n",
    "        print(\"Cannot find term!\")\n",
    "        return word2\n",
    "\n",
    "    def preProcessQuery(self):\n",
    "        self.query = self.query.split()\n",
    "        for i in range(len(self.query)):\n",
    "            if self.query[i] not in self.pos.index:\n",
    "                self.query[i] = self.spellingCorrection(self.query[i])\n",
    "        self.query = ' '.join(self.query)\n",
    "    \n",
    "    def processPositional(self):\n",
    "        if self.query == '':\n",
    "            return []\n",
    "        self.preProcessQuery()\n",
    "        queryPos = self.query.split()\n",
    "        ans = []\n",
    "        if queryPos[0] in self.pos.index:\n",
    "            first = self.pos.index[queryPos[0]]\n",
    "        else:\n",
    "            return []\n",
    "        for docId, vals in first.items():\n",
    "            count = 0\n",
    "            for i in range(1, len(queryPos)):\n",
    "                if docId not in self.pos.index[queryPos[i]]:\n",
    "                   break\n",
    "                postings1 = vals[1]\n",
    "                postings2 = self.pos.index[queryPos[i]][docId][1]\n",
    "                for x in postings1:\n",
    "                    for y in postings2:\n",
    "                        if y < x:\n",
    "                            continue\n",
    "                        elif abs(x - y) == i:\n",
    "                            count += 1\n",
    "            if count > len(queryPos)-1:\n",
    "                ans.append(docId)\n",
    "        print(\"Documents retrieved:\")\n",
    "        for i in ans:\n",
    "            print(self.pos.docs[i])\n",
    "            print()"
   ]
  },
  {
   "cell_type": "code",
   "execution_count": 25,
   "id": "80471b0f-98de-4401-be88-0313f04382b8",
   "metadata": {
    "scrolled": true
   },
   "outputs": [
    {
     "name": "stdin",
     "output_type": "stream",
     "text": [
      "Enter the query:  fluer of a buckled plata\n"
     ]
    },
    {
     "name": "stdout",
     "output_type": "stream",
     "text": [
      "      f  l  u  i  d\n",
      "   0  1  2  3  4  5\n",
      "f  1  0  1  2  3  4\n",
      "l  2  1  0  1  2  3\n",
      "u  3  2  1  0  1  2\n",
      "e  4  3  2  1  1  2\n",
      "r  5  4  3  2  2  2\n"
     ]
    },
    {
     "name": "stdin",
     "output_type": "stream",
     "text": [
      "You searched for fluer, did you mean: fluid? (Y/N):  N\n"
     ]
    },
    {
     "name": "stdout",
     "output_type": "stream",
     "text": [
      "      f  l  u  t  t  e  r\n",
      "   0  1  2  3  4  5  6  7\n",
      "f  1  0  1  2  3  4  5  6\n",
      "l  2  1  0  1  2  3  4  5\n",
      "u  3  2  1  0  1  2  3  4\n",
      "e  4  3  2  1  1  2  2  3\n",
      "r  5  4  3  2  2  2  3  2\n"
     ]
    },
    {
     "name": "stdin",
     "output_type": "stream",
     "text": [
      "You searched for fluer, did you mean: flutter? (Y/N):  Y\n"
     ]
    },
    {
     "name": "stdout",
     "output_type": "stream",
     "text": [
      "      p  l  a  t  e\n",
      "   0  1  2  3  4  5\n",
      "p  1  0  1  2  3  4\n",
      "l  2  1  0  1  2  3\n",
      "a  3  2  1  0  1  2\n",
      "t  4  3  2  1  0  1\n",
      "a  5  4  3  2  1  1\n"
     ]
    },
    {
     "name": "stdin",
     "output_type": "stream",
     "text": [
      "You searched for plata, did you mean: plate? (Y/N):  Y\n"
     ]
    },
    {
     "name": "stdout",
     "output_type": "stream",
     "text": [
      "Documents retrieved:\n",
      "theory and experiments of the flutter of a buckled plate are discussed   it is shown that an increase in the initial deviation from flatness or a static pressure differential across the plate raises the critical value of the reduced velocity    the applicability of the galerkin method to the linearized problem of flutter of an unbuckled plate has been questioned by several authors   in this paper the flutter condition was formulated in the form of an integral equation and solved numerically by the method of iteration and the method of matrix approximations thus avoiding the constraint of assumed modes   for a plate (with finite bending rigidity) the results confirm those given by the galerkin method    an approximate analysis of the limiting form and amplitude of the flutter motion for a buckled plate is presented \n",
      "\n"
     ]
    }
   ],
   "source": [
    "query = input(\"Enter the query: \")\n",
    "q = Query(query)\n",
    "q.processPositional()"
   ]
  }
 ],
 "metadata": {
  "kernelspec": {
   "display_name": "Python 3 (ipykernel)",
   "language": "python",
   "name": "python3"
  },
  "language_info": {
   "codemirror_mode": {
    "name": "ipython",
    "version": 3
   },
   "file_extension": ".py",
   "mimetype": "text/x-python",
   "name": "python",
   "nbconvert_exporter": "python",
   "pygments_lexer": "ipython3",
   "version": "3.11.4"
  }
 },
 "nbformat": 4,
 "nbformat_minor": 5
}
