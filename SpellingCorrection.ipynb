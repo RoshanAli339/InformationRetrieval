{
 "cells": [
  {
   "cell_type": "markdown",
   "id": "b8134c16-3c55-42d3-8551-842d1dfc4d9d",
   "metadata": {},
   "source": [
    "# 8. Correct spellings in the query using edit distance"
   ]
  },
  {
   "cell_type": "code",
   "execution_count": 16,
   "id": "4a814c10-4cf0-4a0a-b73c-c0d8429dc3c6",
   "metadata": {},
   "outputs": [],
   "source": [
    "class PositionalIndex:\n",
    "    \n",
    "    def __init__(self):\n",
    "        self.index = {}\n",
    "        self.terms = []\n",
    "        \n",
    "    def buildIndex(self):\n",
    "        for i in range(1, 21):\n",
    "            with open(f\"Data\\doc{i}.txt\", \"r\") as f:\n",
    "                text = f.read()\n",
    "                text = text.lower()\n",
    "                text = text.split()\n",
    "                self.terms.extend(text)\n",
    "            for j in range(len(text)):\n",
    "                if text[j] in self.index:\n",
    "                    if i in self.index[text[j]]:\n",
    "                        self.index[text[j]][i][0] += 1\n",
    "                        self.index[text[j]][i][1].append(j)\n",
    "                    else:    \n",
    "                        self.index[text[j]].update({i: [1, [j]]})\n",
    "                else:\n",
    "                    self.index[text[j]] = {i: [1, [j]]}\n",
    "            self.terms = sorted(list(set(self.terms)))"
   ]
  },
  {
   "cell_type": "code",
   "execution_count": 47,
   "id": "cda0d2d0-e2bd-4723-859f-5836b398cac6",
   "metadata": {},
   "outputs": [],
   "source": [
    "class Query:\n",
    "    \n",
    "    def __init__(self, query):\n",
    "        self.query = query\n",
    "        self.query = self.query.replace('(', '( ')\n",
    "        self.query = self.query.replace(')', ' )')\n",
    "        self.pos = PositionalIndex()\n",
    "        self.pos.buildIndex()\n",
    "\n",
    "    def spellingCorrection(self, word):\n",
    "        minDist = 99999\n",
    "        ans = []\n",
    "        for word2 in self.pos.terms:\n",
    "            mat = [[i if j==0 else j if i==0 else 0 for j in range(len(word2)+1)] for i in range(len(word)+1)]\n",
    "            for i in range(1, len(word)+1):\n",
    "                for j in range(1, len(word2)+1):\n",
    "                    mat[i][j] = min(mat[i-1][j-1]+(0 if word[i-1]==word2[j-1] else 1), mat[i-1][j]+1, mat[i][j-1]+1)\n",
    "            if mat[len(word)][len(word2)] < minDist:\n",
    "                minDist = mat[len(word)][len(word2)]\n",
    "                ans = [word2]\n",
    "            elif mat[len(word)][len(word2)] == minDist:\n",
    "                minDist = mat[len(word)][len(word2)]\n",
    "                ans.append(word2)\n",
    "        for i in ans:\n",
    "            prompt = input(f\"You searched for {word}, did you mean: {i}? (Y/N): \")\n",
    "            if prompt.lower() == 'y':\n",
    "                return i\n",
    "        print(\"Cannot find term!\")\n",
    "        return word2\n",
    "\n",
    "    def preProcessQuery(self):\n",
    "        self.query = self.query.split()\n",
    "        for i in range(len(self.query)):\n",
    "            if self.query[i] not in self.pos.index:\n",
    "                self.query[i] = self.spellingCorrection(self.query[i])\n",
    "        self.query = ' '.join(self.query)\n",
    "    \n",
    "    def processPositional(self):\n",
    "        if self.query == '':\n",
    "            return []\n",
    "        self.preProcessQuery()\n",
    "        queryPos = self.query.split()\n",
    "        ans = []\n",
    "        if queryPos[0] in self.pos.index:\n",
    "            first = self.pos.index[queryPos[0]]\n",
    "        else:\n",
    "            return []\n",
    "                \n",
    "        for docId, vals in first.items():\n",
    "            count = 0\n",
    "            for i in range(1, len(queryPos)):\n",
    "                if queryPos[i] not in self.pos.index:\n",
    "                    return []\n",
    "                if docId not in self.pos.index[queryPos[i]]:\n",
    "                   break\n",
    "                postings1 = vals[1]\n",
    "                postings2 = self.pos.index[queryPos[i]][docId][1]\n",
    "                for x in postings1:\n",
    "                    for y in postings2:\n",
    "                        if y < x:\n",
    "                            break\n",
    "                        elif abs(x - y) == i:\n",
    "                            count += 1\n",
    "            if count == len(queryPos)-1:\n",
    "                ans.append(docId)\n",
    "        return ans"
   ]
  },
  {
   "cell_type": "code",
   "execution_count": 49,
   "id": "80471b0f-98de-4401-be88-0313f04382b8",
   "metadata": {},
   "outputs": [
    {
     "name": "stdin",
     "output_type": "stream",
     "text": [
      "You searched for genaral, did you mean: general? (Y/N):  Y\n",
      "You searched for intellegance, did you mean: intelligence? (Y/N):  Y\n"
     ]
    },
    {
     "name": "stdout",
     "output_type": "stream",
     "text": [
      "[11, 18]\n"
     ]
    }
   ],
   "source": [
    "query = \"artificial genaral intellegance\"\n",
    "q = Query(query)\n",
    "ans = q.processPositional()\n",
    "print(ans)"
   ]
  }
 ],
 "metadata": {
  "kernelspec": {
   "display_name": "Python 3 (ipykernel)",
   "language": "python",
   "name": "python3"
  },
  "language_info": {
   "codemirror_mode": {
    "name": "ipython",
    "version": 3
   },
   "file_extension": ".py",
   "mimetype": "text/x-python",
   "name": "python",
   "nbconvert_exporter": "python",
   "pygments_lexer": "ipython3",
   "version": "3.11.4"
  }
 },
 "nbformat": 4,
 "nbformat_minor": 5
}
