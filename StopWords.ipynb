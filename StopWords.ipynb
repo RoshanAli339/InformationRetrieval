{
 "cells": [
  {
   "cell_type": "markdown",
   "id": "660443c5",
   "metadata": {},
   "source": [
    "# _Stop Words_"
   ]
  },
  {
   "cell_type": "code",
   "execution_count": 20,
   "id": "20c550ab",
   "metadata": {},
   "outputs": [],
   "source": [
    "import nltk\n",
    "import spacy\n",
    "import os"
   ]
  },
  {
   "cell_type": "code",
   "execution_count": 3,
   "id": "12e3321f",
   "metadata": {},
   "outputs": [],
   "source": [
    "from nltk.corpus import stopwords"
   ]
  },
  {
   "cell_type": "code",
   "execution_count": 19,
   "id": "4d20e055",
   "metadata": {},
   "outputs": [],
   "source": [
    "def allStopWords():\n",
    "    try:\n",
    "        stopWords = set(stopwords.words('english'))\n",
    "    except LookupError:\n",
    "        print('Downloading NLTK stopwords, try again')\n",
    "        nltk.download('stopwords')\n",
    "        stopWords = set(stopwords.words('english'))\n",
    "    \n",
    "    try:\n",
    "        en_model = spacy.load('en_core_web_sm')\n",
    "    except OSError:\n",
    "        print('Downloading spacy en model, try running again')\n",
    "        os.system('python -m spacy download en_core_web_sm')\n",
    "        en_model = spacy.load('en_core_web_sm')\n",
    "    stopWords = stopWords.union(en_model.Defaults.stop_words)\n",
    "    stopWords = stopWords.union({'(', ')', '{', '}', '[', ']', ':', ';', '.', ',', '!', '%', '-'})    \n",
    "\n",
    "    return list(stopWords)"
   ]
  }
 ],
 "metadata": {
  "kernelspec": {
   "display_name": "Python 3 (ipykernel)",
   "language": "python",
   "name": "python3"
  },
  "language_info": {
   "codemirror_mode": {
    "name": "ipython",
    "version": 3
   },
   "file_extension": ".py",
   "mimetype": "text/x-python",
   "name": "python",
   "nbconvert_exporter": "python",
   "pygments_lexer": "ipython3",
   "version": "3.11.4"
  }
 },
 "nbformat": 4,
 "nbformat_minor": 5
}
