{
 "cells": [
  {
   "cell_type": "markdown",
   "id": "2d90ad95",
   "metadata": {},
   "source": [
    "# Block Sort Based Indexing"
   ]
  },
  {
   "cell_type": "code",
   "execution_count": 4,
   "id": "c116d3f2-9b08-4d8f-adb2-68be29cd5423",
   "metadata": {},
   "outputs": [],
   "source": [
    "import os"
   ]
  },
  {
   "cell_type": "code",
   "execution_count": 14,
   "id": "a57b3eed-2b0c-4132-9915-62de3b437424",
   "metadata": {},
   "outputs": [],
   "source": [
    "class BSBI:\n",
    "\n",
    "    def __init__(self):\n",
    "        self.termId = {}\n",
    "        self.numTerms = 0\n",
    "\n",
    "    def parseBlock(self, docsBlock, blockNum):\n",
    "        terms = []\n",
    "        for i in range(len(docsBlock)):\n",
    "            text = docsBlock[i]\n",
    "            terms.extend(text.split())\n",
    "\n",
    "        terms = sorted(list(set(terms)))\n",
    "        for term in terms:\n",
    "            if term not in self.termId:\n",
    "                self.numTerms += 1\n",
    "                self.termId[term] = self.numTerms\n",
    "\n",
    "        index = {}\n",
    "        \n",
    "        for i in range(len(terms)):\n",
    "            for j in range(len(docsBlock)):\n",
    "                if terms[i] in docsBlock[j]:\n",
    "                    if terms[i] in index:\n",
    "                        index[terms[i]].append(j+1)\n",
    "                    else:\n",
    "                        index[terms[i]] = [j+1]\n",
    "        index = dict(sorted(index.items()))\n",
    "        strs = []\n",
    "        with open(f\"Sample/doc{blockNum}.csv\", \"w\") as f:\n",
    "            for k, v in index.items():\n",
    "                for doc in v:\n",
    "                    strs.append(f\"{self.termId[k]}, {doc}\\n\")\n",
    "            strs[-1] = strs[-1].replace('\\n','')\n",
    "            f.writelines(strs)\n",
    "\n",
    "    def bsbiInvert(self, numBlocks):\n",
    "        blockSize = 50 // numBlocks\n",
    "        files = os.listdir('Cranfield Data Set')\n",
    "        for i in range(numBlocks):\n",
    "            docs = []\n",
    "            for j in range(blockSize):\n",
    "                with open(f\"Cranfield Data Set/{files[i*blockSize + j]}\") as f:\n",
    "                    docs.append(f.read())\n",
    "            self.parseBlock(docs,i)\n",
    "        \n",
    "    def buildIndex(self, numBlocks):\n",
    "        self.bsbiInvert(numBlocks)\n",
    "\n",
    "        index = {}\n",
    "\n",
    "        for i in range(numBlocks):\n",
    "            with open(f\"Sample/doc{i}.csv\", \"r\") as f:\n",
    "                text = f.read()\n",
    "                data = [[int(x) for x in l.split(', ')] for l in text.split('\\n')]\n",
    "                for d in data:\n",
    "                    val = list(self.termId.keys())[list(self.termId.values()).index(d[0])]\n",
    "                    if val not in index:\n",
    "                        index[val] = [d[1]]\n",
    "                    else:\n",
    "                        index[val].append(d[1])\n",
    "                    index[val] = sorted(list(set(index[val])))\n",
    "        myKeys = list(index.keys())\n",
    "        myKeys.sort()\n",
    "        sortedIndex = {i: index[i] for i in myKeys}\n",
    "        with open(f\"Sample/Merged.csv\", \"w\") as f:\n",
    "            for k, v in sortedIndex.items():\n",
    "                for doc in v:\n",
    "                    s = f\"{self.termId[k]}, {doc}\\n\"\n",
    "                    f.write(s)"
   ]
  },
  {
   "cell_type": "code",
   "execution_count": 15,
   "id": "a135114c-2c9b-4bbc-8746-896178c75a40",
   "metadata": {},
   "outputs": [],
   "source": [
    "bsbi = BSBI()"
   ]
  },
  {
   "cell_type": "code",
   "execution_count": 16,
   "id": "540c3ea1-452c-4d6c-83d2-ff024182156f",
   "metadata": {},
   "outputs": [],
   "source": [
    "bsbi.buildIndex(10)"
   ]
  }
 ],
 "metadata": {
  "kernelspec": {
   "display_name": "Python 3 (ipykernel)",
   "language": "python",
   "name": "python3"
  },
  "language_info": {
   "codemirror_mode": {
    "name": "ipython",
    "version": 3
   },
   "file_extension": ".py",
   "mimetype": "text/x-python",
   "name": "python",
   "nbconvert_exporter": "python",
   "pygments_lexer": "ipython3",
   "version": "3.11.4"
  }
 },
 "nbformat": 4,
 "nbformat_minor": 5
}
