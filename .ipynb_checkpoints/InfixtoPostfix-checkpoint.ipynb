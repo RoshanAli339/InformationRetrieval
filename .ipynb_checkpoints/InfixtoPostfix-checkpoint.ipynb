{
 "cells": [
  {
   "cell_type": "markdown",
   "id": "8a747a5d",
   "metadata": {},
   "source": [
    "# Infix to Postfix Conversion"
   ]
  },
  {
   "cell_type": "markdown",
   "id": "22ba78c8-f903-4385-ae0f-613ba5556e86",
   "metadata": {},
   "source": [
    "-----"
   ]
  },
  {
   "cell_type": "markdown",
   "id": "f49a9b34-c964-42ae-a0aa-b9bbc84b2e10",
   "metadata": {},
   "source": [
    "### A Stack data strcture to perform stack operations"
   ]
  },
  {
   "cell_type": "code",
   "execution_count": 1,
   "id": "6b341368",
   "metadata": {},
   "outputs": [],
   "source": [
    "# defines the operations of stack data structure\n",
    "class Stack():\n",
    "    def __init__(self):\n",
    "        self._stack = []\n",
    "        \n",
    "    def push(self, item):\n",
    "        self._stack.append(item)\n",
    "        \n",
    "    def isEmpty(self):\n",
    "        return not self._stack\n",
    "\n",
    "    def pop(self):\n",
    "        if(self.isEmpty()):\n",
    "            return None\n",
    "        return self._stack.pop()\n",
    "\n",
    "    def peek(self):\n",
    "        if(self.isEmpty()):\n",
    "            return None\n",
    "        return self._stack[-1]\n",
    "\n",
    "    def size(self):\n",
    "        return len(self._stack)\n",
    "\n",
    "    def __str__(self):\n",
    "        toString = \"\"\n",
    "        for el in self._stack:\n",
    "            toString += f\"{el} \"\n",
    "        return toString"
   ]
  },
  {
   "cell_type": "markdown",
   "id": "a492bffd-9f98-4265-8fae-cea7c6daa4f1",
   "metadata": {},
   "source": [
    "-----"
   ]
  },
  {
   "cell_type": "markdown",
   "id": "b8aa8c42-ec62-4b05-a5ae-0cc9f9155096",
   "metadata": {},
   "source": [
    "### A class to convert an input infix expression into a postfix expression"
   ]
  },
  {
   "cell_type": "code",
   "execution_count": 2,
   "id": "53a8f89f",
   "metadata": {},
   "outputs": [],
   "source": [
    "# infix to postfix converter\n",
    "class InfixToPostfix:\n",
    "    def __init__(self, infix):\n",
    "        self.infix = infix\n",
    "        self.postfix = []\n",
    "        self.stack = Stack()\n",
    "        self.precedence = {\"(\": 0, \"or\": 1, \"and\": 2, \"not\": 3}\n",
    "        self.operators = [\"and\", \"or\", \"not\", \"(\", \")\"]\n",
    "\n",
    "    def convert(self):\n",
    "        temp = self.infix.split(\" \")\n",
    "        str = \"\"\n",
    "        biword = [] #  join words with hyphen to make it a single word\n",
    "        for t in temp:\n",
    "            if t not in self.operators:\n",
    "                str += t + \"-\"\n",
    "            else:\n",
    "                if str != \"\":\n",
    "                    biword.append(str[:-1])\n",
    "                biword.append(t)\n",
    "                str = \"\"\n",
    "        biword.append(str[:-1])\n",
    "        if biword[-1] == \"\":\n",
    "            biword.pop()\n",
    "\n",
    "        str = \"\"\n",
    "        for t in biword:\n",
    "            str += t + \" \"\n",
    "        self.infix = str[:-1]\n",
    "\n",
    "        tokens = self.infix.split(\" \")\n",
    "        for token in tokens:\n",
    "            if token not in self.operators:\n",
    "                self.postfix.append(token)\n",
    "            elif token == \"(\":\n",
    "                self.stack.push(token)\n",
    "            elif token == \")\":\n",
    "                while self.stack.peek() != \"(\":\n",
    "                    self.postfix.append(self.stack.pop())\n",
    "                self.stack.pop()\n",
    "            else:\n",
    "                while not self.stack.isEmpty() and self.precedence[self.stack.peek()] >= self.precedence[token]:\n",
    "                    self.postfix.append(self.stack.pop())\n",
    "                self.stack.push(token)\n",
    "        while not self.stack.isEmpty():\n",
    "            self.postfix.append(self.stack.pop())\n",
    "        return self.postfix"
   ]
  }
 ],
 "metadata": {
  "kernelspec": {
   "display_name": "Python 3 (ipykernel)",
   "language": "python",
   "name": "python3"
  },
  "language_info": {
   "codemirror_mode": {
    "name": "ipython",
    "version": 3
   },
   "file_extension": ".py",
   "mimetype": "text/x-python",
   "name": "python",
   "nbconvert_exporter": "python",
   "pygments_lexer": "ipython3",
   "version": "3.11.4"
  }
 },
 "nbformat": 4,
 "nbformat_minor": 5
}
