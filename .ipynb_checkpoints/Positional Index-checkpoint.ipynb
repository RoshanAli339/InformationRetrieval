{
 "cells": [
  {
   "cell_type": "markdown",
   "id": "5b5248f1",
   "metadata": {},
   "source": [
    "## Positional Index"
   ]
  },
  {
   "cell_type": "code",
   "execution_count": 2,
   "id": "3c7eabaa",
   "metadata": {},
   "outputs": [],
   "source": [
    "class PositionalIndex:\n",
    "    \n",
    "    def __init__(self):\n",
    "        self.index = {}\n",
    "        \n",
    "        \n",
    "    def buildIndex(self):\n",
    "        for i in range(1, 5):\n",
    "            with open(f\"Data\\doc{i}.txt\", \"r\") as f:\n",
    "                text = f.read()\n",
    "                text = text.lower()\n",
    "                text = text.split()\n",
    "            for j in range(len(text)):\n",
    "                if text[j] in self.index:\n",
    "                    if i in self.index[text[j]]:\n",
    "                        self.index[text[j]][i][0] += 1\n",
    "                        self.index[text[j]][i][1].append(j)\n",
    "                    else:    \n",
    "                        self.index[text[j]].update({i: [1, [j]]})\n",
    "                else:\n",
    "                    self.index[text[j]] = {i: [1, [j]]}\n",
    "#         for k, v in self.index.items():\n",
    "#             print(\"Term:\", k)\n",
    "#             for docId, vals in v.items():\n",
    "#                 print(\"\\tDocId:\", docId)\n",
    "#                 print(\"\\tFrequency:\", vals[0])\n",
    "#                 print(\"\\tPositions:\", vals[1])"
   ]
  },
  {
   "cell_type": "code",
   "execution_count": 3,
   "id": "1ae2890b",
   "metadata": {},
   "outputs": [
    {
     "name": "stdin",
     "output_type": "stream",
     "text": [
      "Enter the query:  have suffered alteration\n"
     ]
    }
   ],
   "source": [
    "query = input(\"Enter the query: \")"
   ]
  },
  {
   "cell_type": "code",
   "execution_count": 4,
   "id": "c2c18305",
   "metadata": {},
   "outputs": [],
   "source": [
    "query = query.split()"
   ]
  },
  {
   "cell_type": "code",
   "execution_count": 5,
   "id": "95e6880d",
   "metadata": {},
   "outputs": [],
   "source": [
    "pos = PositionalIndex()\n",
    "pos.buildIndex()"
   ]
  },
  {
   "cell_type": "code",
   "execution_count": 6,
   "id": "3235bd48",
   "metadata": {},
   "outputs": [],
   "source": [
    "ans = []"
   ]
  },
  {
   "cell_type": "code",
   "execution_count": 7,
   "id": "9b9b775b",
   "metadata": {},
   "outputs": [],
   "source": [
    "if query[0] in pos.index:\n",
    "    first = pos.index[query[0]]\n",
    "    for docId, vals in first.items():\n",
    "        for i in range(1, len(query)):\n",
    "            if docId not in pos.index[query[i]]:\n",
    "               break\n",
    "            postings1 = vals[1]\n",
    "            postings2 = pos.index[query[i]][docId][1]\n",
    "            for x in postings1:\n",
    "                for y in postings2:\n",
    "                    if y < x:\n",
    "                        break\n",
    "                    elif abs(x - y) == i and docId not in ans:\n",
    "                        ans.append(docId)"
   ]
  },
  {
   "cell_type": "code",
   "execution_count": 8,
   "id": "1fa901ef",
   "metadata": {},
   "outputs": [
    {
     "data": {
      "text/plain": [
       "[2, 3]"
      ]
     },
     "execution_count": 8,
     "metadata": {},
     "output_type": "execute_result"
    }
   ],
   "source": [
    "ans"
   ]
  }
 ],
 "metadata": {
  "kernelspec": {
   "display_name": "Python 3 (ipykernel)",
   "language": "python",
   "name": "python3"
  },
  "language_info": {
   "codemirror_mode": {
    "name": "ipython",
    "version": 3
   },
   "file_extension": ".py",
   "mimetype": "text/x-python",
   "name": "python",
   "nbconvert_exporter": "python",
   "pygments_lexer": "ipython3",
   "version": "3.11.4"
  }
 },
 "nbformat": 4,
 "nbformat_minor": 5
}
