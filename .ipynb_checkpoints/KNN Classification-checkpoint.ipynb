{
 "cells": [
  {
   "cell_type": "markdown",
   "id": "8fdd3430",
   "metadata": {},
   "source": [
    "# KNN Classification"
   ]
  },
  {
   "cell_type": "code",
   "execution_count": 1,
   "id": "3fdbd821",
   "metadata": {},
   "outputs": [],
   "source": [
    "import pandas as pd\n",
    "import numpy as np\n",
    "import os\n",
    "import math\n",
    "from nltk.corpus import stopwords"
   ]
  },
  {
   "cell_type": "code",
   "execution_count": 2,
   "id": "3fcda52f",
   "metadata": {},
   "outputs": [],
   "source": [
    "stopWords = set(stopwords.words('english'))"
   ]
  },
  {
   "cell_type": "code",
   "execution_count": 3,
   "id": "11e4854c",
   "metadata": {},
   "outputs": [],
   "source": [
    "class KNN:\n",
    "    \n",
    "    def __init__(self):\n",
    "        self.tf_idf = pd.DataFrame()\n",
    "        self.terms = []\n",
    "        self.docs = []\n",
    "        self.idf = []\n",
    "        \n",
    "    def buildVS(self):\n",
    "        tDocs = ['classifications/engineering/'+i for i in os.listdir('classifications/engineering')][:8]\n",
    "        tDocs.extend(['classifications/medicine/'+i for i in os.listdir('classifications/medicine')][:8])\n",
    "        tDocs.extend(['classifications/ca/'+i for i in os.listdir('classifications/ca')][:8])\n",
    "        for doc in tDocs:\n",
    "            with open(doc, \"r\") as f:\n",
    "                text = f.read().lower().replace(',','').replace('.','').replace('?','')\n",
    "                self.docs.append(text)\n",
    "                self.terms.extend(text.split())\n",
    "        self.terms = list(set(self.terms).difference(stopWords))\n",
    "        self.terms = sorted(self.terms)\n",
    "        self.tf_idf = pd.DataFrame([[0 for i in range(len(self.terms))] for j in range(len(self.docs))])\n",
    "        self.tf_idf.index = [f'Doc{i}' for i in range(len(self.docs))]\n",
    "        self.tf_idf.columns = self.terms\n",
    "        for i in range(len(self.docs)):\n",
    "            for j in range(len(self.terms)):\n",
    "                if self.docs[i].count(self.terms[j]) != 0:\n",
    "                    tf = 1 + math.log10(self.docs[i].count(self.terms[j]))\n",
    "                else:\n",
    "                    tf = 0\n",
    "                self.tf_idf.iloc[i, j] = tf\n",
    "        self.idf = [0 for i in range(len(self.terms))]\n",
    "        for i in range(len(self.terms)):\n",
    "            self.idf[i] = math.log10(len(self.docs) / (self.tf_idf.iloc[:, i] != 0).sum())\n",
    "            self.tf_idf.iloc[:, i] *= self.idf[i]\n",
    "    \n",
    "    def cosineSimilarity(self, vec1, vec2):\n",
    "        dotProduct = vec1.dot(vec2)\n",
    "        normVec1 = np.linalg.norm(vec1)\n",
    "        normVec2 = np.linalg.norm(vec2)\n",
    "        if normVec1 != 0 and normVec2 != 0:\n",
    "            return dotProduct / (normVec1 * normVec2)\n",
    "        else:\n",
    "            return 0\n",
    "        \n",
    "    def queryVector(self, query, k):\n",
    "        classes = ['engineering', 'medicine', 'charted accountant']\n",
    "        votes = np.array([0, 0, 0])\n",
    "        \n",
    "        cosineSim = []\n",
    "        queryTerms = query.lower().split()\n",
    "        queryVec = pd.Series([0] * len(self.terms), index=self.terms)\n",
    "        \n",
    "        for qTerm in queryTerms:\n",
    "            if qTerm in self.terms:\n",
    "                queryVec[qTerm] = 1\n",
    "        \n",
    "        for i in range(len(self.docs)):\n",
    "            cosineSim.append(self.cosineSimilarity(queryVec, self.tf_idf.iloc[i]))\n",
    "        \n",
    "        ranks = np.array(cosineSim).argsort()[::-1][:24]\n",
    "        for i in range(k):\n",
    "            if ranks[i] in range(0, 8):\n",
    "                votes[0] += 1\n",
    "            elif ranks[i] in range(8, 15):\n",
    "                votes[1] += 1\n",
    "            elif ranks[i] in range(16, 23):\n",
    "                votes[2] += 1\n",
    "        top = votes.argsort()[::-1][:1]\n",
    "        print(f\"It is classified into: {classes[top[0]]}\")"
   ]
  },
  {
   "cell_type": "code",
   "execution_count": 4,
   "id": "91cf2b71",
   "metadata": {},
   "outputs": [],
   "source": [
    "knn = KNN()"
   ]
  },
  {
   "cell_type": "code",
   "execution_count": 6,
   "id": "1514388c",
   "metadata": {},
   "outputs": [],
   "source": [
    "knn.buildVS()"
   ]
  },
  {
   "cell_type": "code",
   "execution_count": 7,
   "id": "cb8851b0",
   "metadata": {
    "scrolled": true
   },
   "outputs": [
    {
     "name": "stdin",
     "output_type": "stream",
     "text": [
      "Enter test document:  Chartered accountants are also involved in insolvency and bankruptcy They help businesses and individuals to reorganize their finances or liquidate their assets This helps to protect creditors and other stakeholders\n",
      "Enter value of k:  7\n"
     ]
    },
    {
     "name": "stdout",
     "output_type": "stream",
     "text": [
      "It is classified into: charted accountant\n"
     ]
    }
   ],
   "source": [
    "test = input(\"Enter test document: \")\n",
    "k = int(input(\"Enter value of k: \"))\n",
    "knn.queryVector(\"design and analysis of algorithms\", 7)"
   ]
  }
 ],
 "metadata": {
  "kernelspec": {
   "display_name": "Python 3 (ipykernel)",
   "language": "python",
   "name": "python3"
  },
  "language_info": {
   "codemirror_mode": {
    "name": "ipython",
    "version": 3
   },
   "file_extension": ".py",
   "mimetype": "text/x-python",
   "name": "python",
   "nbconvert_exporter": "python",
   "pygments_lexer": "ipython3",
   "version": "3.11.4"
  }
 },
 "nbformat": 4,
 "nbformat_minor": 5
}
