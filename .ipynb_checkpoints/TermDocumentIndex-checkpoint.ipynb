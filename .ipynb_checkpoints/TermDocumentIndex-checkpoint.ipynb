{
 "cells": [
  {
   "cell_type": "markdown",
   "id": "d3f4f048-fd72-42a0-bea3-6b08744da440",
   "metadata": {},
   "source": [
    "### 1. a) Create a **_Term Document Incidence Matrix_** for the given documents"
   ]
  },
  {
   "cell_type": "code",
   "execution_count": 9,
   "id": "b84b6ff3-0f59-4ea5-9a1d-5d8abf306902",
   "metadata": {},
   "outputs": [],
   "source": [
    "import os"
   ]
  },
  {
   "cell_type": "code",
   "execution_count": 19,
   "id": "12dce30d",
   "metadata": {},
   "outputs": [],
   "source": [
    "class TermDocIndex:\n",
    "    \n",
    "    def __init__(self):\n",
    "        self.mat = []\n",
    "        self.terms = []\n",
    "        self.docs = []\n",
    "        \n",
    "    def buildIndex(self):\n",
    "        files = os.listdir('Cranfield Data Set')\n",
    "        for i in range(1, 21):\n",
    "            with open(f\"Cranfield Data Set/{files[i]}\") as f:\n",
    "                text = f.read()\n",
    "                text = text.lower()\n",
    "                self.docs.append(text)\n",
    "                self.terms.extend(text.split())\n",
    "        self.terms = sorted(list(set(self.terms)))\n",
    "        \n",
    "        self.mat = [[0 for j in range(20)] for i in range(len(self.terms))]\n",
    "        \n",
    "        for i in range(len(self.terms)):\n",
    "            for j in range(len(self.docs)):\n",
    "                if self.terms[i] in self.docs[j]:\n",
    "                    self.mat[i][j] = 1"
   ]
  },
  {
   "cell_type": "code",
   "execution_count": 11,
   "id": "684d8584",
   "metadata": {},
   "outputs": [],
   "source": [
    "# defines the operations of stack data structure\n",
    "class Stack:\n",
    "    def __init__(self):\n",
    "        self._stack = []\n",
    "        \n",
    "    def push(self, item):\n",
    "        self._stack.append(item)\n",
    "        \n",
    "    def isEmpty(self):\n",
    "        return not self._stack\n",
    "\n",
    "    def pop(self):\n",
    "        if(self.isEmpty()):\n",
    "            return None\n",
    "        return self._stack.pop()\n",
    "\n",
    "    def peek(self):\n",
    "        if(self.isEmpty()):\n",
    "            return None\n",
    "        return self._stack[-1]"
   ]
  },
  {
   "cell_type": "code",
   "execution_count": 12,
   "id": "8597db93",
   "metadata": {},
   "outputs": [],
   "source": [
    "# infix to postfix converter\n",
    "class InfixToPostfix:\n",
    "    def __init__(self, infix):\n",
    "        self.infix = infix\n",
    "        self.postfix = []\n",
    "        self.stack = Stack()\n",
    "        self.precedence = {\"(\": 0, \"or\": 1, \"and\": 2, \"not\": 3}\n",
    "        self.operators = [\"and\", \"or\", \"not\", \"(\", \")\"]\n",
    "\n",
    "    def convert(self):\n",
    "        tokens = self.infix.split(\" \")\n",
    "        for token in tokens:\n",
    "            if token not in self.operators:\n",
    "                self.postfix.append(token)\n",
    "            elif token == \"(\":\n",
    "                self.stack.push(token)\n",
    "            elif token == \")\":\n",
    "                while self.stack.peek() != \"(\":\n",
    "                    self.postfix.append(self.stack.pop())\n",
    "                self.stack.pop()\n",
    "            else:\n",
    "                while not self.stack.isEmpty() and self.precedence[self.stack.peek()] >= self.precedence[token]:\n",
    "                    self.postfix.append(self.stack.pop())\n",
    "                self.stack.push(token)\n",
    "        while not self.stack.isEmpty():\n",
    "            self.postfix.append(self.stack.pop())\n",
    "        return self.postfix"
   ]
  },
  {
   "cell_type": "markdown",
   "id": "0acebe9f",
   "metadata": {},
   "source": [
    "-----"
   ]
  },
  {
   "cell_type": "markdown",
   "id": "ce30e536-d4ec-4ebe-83c7-a65efbcdaf2a",
   "metadata": {},
   "source": [
    "## 1. b) Process boolean queries using Term Docuemnt Incidence Matrix"
   ]
  },
  {
   "cell_type": "code",
   "execution_count": 52,
   "id": "fbe3ad56",
   "metadata": {},
   "outputs": [],
   "source": [
    "class Query:\n",
    "    \n",
    "    def __init__(self, query):\n",
    "        self.query = query\n",
    "        self.termIndex = TermDocIndex()\n",
    "        self.query = self.query.replace('(', '( ')\n",
    "        self.query = self.query.replace(')', ' )')\n",
    "        self.termIndex.buildIndex()\n",
    "        \n",
    "    def solve(self, vals, op):\n",
    "        ans = []\n",
    "        if op == 'not':\n",
    "            ans = [1 if vals[i]==0 else 0 for i in range(20)]\n",
    "        elif op == 'and':\n",
    "            ans = [vals[0][i] & vals[1][i] for i in range(20)]\n",
    "        elif op == 'or':\n",
    "            ans = [vals[0][i] | vals[1][i] for i in range(20)]\n",
    "        return ans\n",
    "    \n",
    "    def processQuery(self):\n",
    "        infix = InfixToPostfix(self.query)\n",
    "        postfix = infix.convert()\n",
    "        boolean_operators = ['not', 'and', 'or']\n",
    "        query_Index = []\n",
    "        \n",
    "        for p in postfix:\n",
    "            if p not in boolean_operators:\n",
    "                if p in self.termIndex.terms:\n",
    "                    query_Index.append(self.termIndex.mat[self.termIndex.terms.index(p)])\n",
    "                else:\n",
    "                    query_Index.append([0 for i in range(20)])\n",
    "            else:\n",
    "                if p == 'not':\n",
    "                    term = query_Index.pop()\n",
    "                    query_Index.append(self.solve(term, p))\n",
    "                else:\n",
    "                    terms = [query_Index.pop(), query_Index.pop()]\n",
    "                    query_Index.append(self.solve(terms, p))\n",
    "        print(\"Documents retrieved: \")\n",
    "        for i in range(len(query_Index[0])):\n",
    "            if query_Index[0][i] != 0:\n",
    "                print(self.termIndex.docs[i])\n",
    "                print()"
   ]
  },
  {
   "cell_type": "code",
   "execution_count": 57,
   "id": "944dec34",
   "metadata": {},
   "outputs": [
    {
     "name": "stdin",
     "output_type": "stream",
     "text": [
      "Enter your query: laminar and (turbulent and flow)\n"
     ]
    },
    {
     "name": "stdout",
     "output_type": "stream",
     "text": [
      "Documents retrieved: \n",
      "experiments were performed in the 12 in supersonic wind tunnel of the jet propulsion laboratory of the california institute of technology to investigate the effect of three dimensional roughness elements (spheres) on boundary layer transition on a tained at local mach numbers of 190 271 and 367 by varying trip size position spacing and reynolds number per inch  the results indicate that (1) transition from laminar to turbulent flow induced by three dimensional roughness elements begins when the double row of spiral vortices trailing each element contaminates and breaks down the surrounding field of vorticity (2) transition appears rather suddenly becoming more violent with increasing roughness height relative to the boundary layer thickness (3) after the breakdown of the vorticity field the strength of the spiral vortices may still persist in the sublayer of the ensuing turbulent flow (4) lateral spacing of roughness elements has little effect upon the initial breakdown (contamination) of the laminar flow and (5) the trip reynolds number where u and v are the velocity and kinematic viscosity at the outer edge of the boundary layer and k is roughness height such that transition occurs at the roughness position varies as the position reynolds number to the one fourth power viz where x is trip position \n",
      "\n",
      "an investigation of transition and skin friction on an insulated flat plate 5 by 26 in was made in the galcit 5 by 5 in hypersonic wind tunnel at a nominal mach number of 58    the phosphorescent lacquer technique was used for transition detection and was found to be in good agreement with total head rake measurements along the plate surface and pitot boundarylayer surveys   it was found that the boundary layer was laminar at reynolds numbers of at least 5 x 10   transverse contamination caused by the turbulent boundary layer on the tunnel sidewall originated far downstream of the flat plate leading edge at reynolds numbers of 15 to 2 x 10 and spread at a uniform angle of 5 compared to 9 degree in low speed flow    the effect of two dimensional and local disturbances was investigated   the technique of air injection into the boundary layer as a means of hastening transition was extensively used  although the onset of transition occurred at reynolds numbers as low as 10 a fully developed turbulent boundary layer was not obtained at reynolds numbers much below 2 x 10 regardless of the amount of air injected    a qualitative discussion of these results is given with emphasis on the possibility of a greater stability of the laminar boundary layer in hypersonic flow than at lower speeds    direct skin friction measurements were made by means of the floating element technique over a range of reynolds numbers verified as being laminar over the complete range   with air injection turbulent shear was obtained only for reynolds numbers greater than 2 x 10 this value being in good agreement with earlier results of this investigation   the turbulent skin friction coefficient was found to be approximately 040 of that for incompressible flow for a constant value of r and 046 for an effective reynolds number between 5 and 6 x 10 \n",
      "\n",
      "the transformation of the compressible turbulent boundarylayer equations to their incompressible equivalent is demonstrated analytically   the transformation is essentially the same as that for the laminar layer first given by stewartson except that the explicit relation between the viscosity and temperature is not required   a key point in the analysis is the modification of the stream function to include a mean of the fluctuating components and the postulate that the apparent turbulent shear associated with an elemental mass remains invariant in the transformation    the values of the incompressible friction coefficients and of pressure rise causing separation thus transformed show good agreement with the experimentally measured and independently reported results   an application of the transformation to the self preserving boundary layers and to the computations of general boundary layer flow is shown \n",
      "\n"
     ]
    }
   ],
   "source": [
    "query = input(\"Enter your query:\")\n",
    "q = Query(query)\n",
    "q.processQuery()"
   ]
  }
 ],
 "metadata": {
  "kernelspec": {
   "display_name": "Python 3 (ipykernel)",
   "language": "python",
   "name": "python3"
  },
  "language_info": {
   "codemirror_mode": {
    "name": "ipython",
    "version": 3
   },
   "file_extension": ".py",
   "mimetype": "text/x-python",
   "name": "python",
   "nbconvert_exporter": "python",
   "pygments_lexer": "ipython3",
   "version": "3.11.4"
  }
 },
 "nbformat": 4,
 "nbformat_minor": 5
}
