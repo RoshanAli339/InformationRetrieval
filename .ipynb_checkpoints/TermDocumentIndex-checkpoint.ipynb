{
 "cells": [
  {
   "cell_type": "markdown",
   "id": "d3f4f048-fd72-42a0-bea3-6b08744da440",
   "metadata": {},
   "source": [
    "### 1. a) Create a **_Term Document Incidence Matrix_** for the given documents"
   ]
  },
  {
   "cell_type": "code",
   "execution_count": 1,
   "id": "12dce30d",
   "metadata": {},
   "outputs": [],
   "source": [
    "class TermDocIndex:\n",
    "    \n",
    "    def __init__(self):\n",
    "        self.mat = []\n",
    "        self.terms = []\n",
    "        self.docs = []\n",
    "        \n",
    "    def buildIndex(self):\n",
    "        for i in range(1, 21):\n",
    "            with open(f\"Data\\doc{i}.txt\") as f:\n",
    "                text = f.read()\n",
    "                text = text.lower()\n",
    "                self.docs.append(text)\n",
    "                self.terms.extend(text.split())\n",
    "        self.terms = sorted(list(set(self.terms)))\n",
    "        \n",
    "        self.mat = [[0 for j in range(20)] for i in range(len(self.terms))]\n",
    "        \n",
    "        for i in range(len(self.terms)):\n",
    "            for j in range(len(self.docs)):\n",
    "                if self.terms[i] in self.docs[j]:\n",
    "                    self.mat[i][j] = 1"
   ]
  },
  {
   "cell_type": "code",
   "execution_count": 2,
   "id": "684d8584",
   "metadata": {},
   "outputs": [],
   "source": [
    "# defines the operations of stack data structure\n",
    "class Stack:\n",
    "    def __init__(self):\n",
    "        self._stack = []\n",
    "        \n",
    "    def push(self, item):\n",
    "        self._stack.append(item)\n",
    "        \n",
    "    def isEmpty(self):\n",
    "        return not self._stack\n",
    "\n",
    "    def pop(self):\n",
    "        if(self.isEmpty()):\n",
    "            return None\n",
    "        return self._stack.pop()\n",
    "\n",
    "    def peek(self):\n",
    "        if(self.isEmpty()):\n",
    "            return None\n",
    "        return self._stack[-1]"
   ]
  },
  {
   "cell_type": "code",
   "execution_count": 3,
   "id": "8597db93",
   "metadata": {},
   "outputs": [],
   "source": [
    "# infix to postfix converter\n",
    "class InfixToPostfix:\n",
    "    def __init__(self, infix):\n",
    "        self.infix = infix\n",
    "        self.postfix = []\n",
    "        self.stack = Stack()\n",
    "        self.precedence = {\"(\": 0, \"or\": 1, \"and\": 2, \"not\": 3}\n",
    "        self.operators = [\"and\", \"or\", \"not\", \"(\", \")\"]\n",
    "\n",
    "    def convert(self):\n",
    "        tokens = self.infix.split(\" \")\n",
    "        for token in tokens:\n",
    "            if token not in self.operators:\n",
    "                self.postfix.append(token)\n",
    "            elif token == \"(\":\n",
    "                self.stack.push(token)\n",
    "            elif token == \")\":\n",
    "                while self.stack.peek() != \"(\":\n",
    "                    self.postfix.append(self.stack.pop())\n",
    "                self.stack.pop()\n",
    "            else:\n",
    "                while not self.stack.isEmpty() and self.precedence[self.stack.peek()] >= self.precedence[token]:\n",
    "                    self.postfix.append(self.stack.pop())\n",
    "                self.stack.push(token)\n",
    "        while not self.stack.isEmpty():\n",
    "            self.postfix.append(self.stack.pop())\n",
    "        return self.postfix"
   ]
  },
  {
   "cell_type": "markdown",
   "id": "0acebe9f",
   "metadata": {},
   "source": [
    "-----"
   ]
  },
  {
   "cell_type": "markdown",
   "id": "ce30e536-d4ec-4ebe-83c7-a65efbcdaf2a",
   "metadata": {},
   "source": [
    "## 1. b) Process boolean queries using Term Docuemnt Incidence Matrix"
   ]
  },
  {
   "cell_type": "code",
   "execution_count": 19,
   "id": "fbe3ad56",
   "metadata": {},
   "outputs": [],
   "source": [
    "class Query:\n",
    "    \n",
    "    def __init__(self, query):\n",
    "        self.query = query\n",
    "        self.termIndex = TermDocIndex()\n",
    "        self.query = self.query.replace('(', '( ')\n",
    "        self.query = self.query.replace(')', ' )')\n",
    "        self.termIndex.buildIndex()\n",
    "        \n",
    "    def solve(self, vals, op):\n",
    "        ans = []\n",
    "        if op == 'not':\n",
    "            ans = [1 if vals[i]==0 else 0 for i in range(20)]\n",
    "        elif op == 'and':\n",
    "            ans = [vals[0][i] & vals[1][i] for i in range(20)]\n",
    "        elif op == 'or':\n",
    "            ans = [vals[0][i] | vals[1][i] for i in range(20)]\n",
    "        return ans\n",
    "    \n",
    "    def processQuery(self):\n",
    "        infix = InfixToPostfix(self.query)\n",
    "        postfix = infix.convert()\n",
    "        boolean_operators = ['not', 'and', 'or']\n",
    "        query_Index = []\n",
    "        \n",
    "        for p in postfix:\n",
    "            if p not in boolean_operators:\n",
    "                if p in self.termIndex.terms:\n",
    "                    query_Index.append(self.termIndex.mat[self.termIndex.terms.index(p)])\n",
    "                else:\n",
    "                    query_Index.append([0 for i in range(20)])\n",
    "            else:\n",
    "                if p == 'not':\n",
    "                    term = query_Index.pop()\n",
    "                    query_Index.append(self.solve(term, p))\n",
    "                else:\n",
    "                    terms = [query_Index.pop(), query_Index.pop()]\n",
    "                    query_Index.append(self.solve(terms, p))\n",
    "        return query_Index[0]"
   ]
  },
  {
   "cell_type": "code",
   "execution_count": 20,
   "id": "944dec34",
   "metadata": {},
   "outputs": [
    {
     "name": "stdout",
     "output_type": "stream",
     "text": [
      "[0, 0, 0, 0, 0, 0, 0, 0, 0, 1, 0, 0, 0, 0, 0, 0, 1, 0, 0, 0]\n"
     ]
    }
   ],
   "source": [
    "query = \"ai and cybersecurity\"\n",
    "q = Query(query)\n",
    "ans = q.processQuery()\n",
    "print(ans)"
   ]
  }
 ],
 "metadata": {
  "kernelspec": {
   "display_name": "Python 3 (ipykernel)",
   "language": "python",
   "name": "python3"
  },
  "language_info": {
   "codemirror_mode": {
    "name": "ipython",
    "version": 3
   },
   "file_extension": ".py",
   "mimetype": "text/x-python",
   "name": "python",
   "nbconvert_exporter": "python",
   "pygments_lexer": "ipython3",
   "version": "3.11.4"
  }
 },
 "nbformat": 4,
 "nbformat_minor": 5
}
