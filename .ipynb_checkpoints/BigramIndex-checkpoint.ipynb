{
 "cells": [
  {
   "cell_type": "markdown",
   "id": "acc9298b-0321-4f4f-8926-0be30389f3c0",
   "metadata": {},
   "source": [
    "# 7. a) Build a Bigram Index"
   ]
  },
  {
   "cell_type": "code",
   "execution_count": 1,
   "id": "68eb64ac-889b-4432-9421-799b3dfd43b1",
   "metadata": {},
   "outputs": [],
   "source": [
    "import os"
   ]
  },
  {
   "cell_type": "code",
   "execution_count": 2,
   "id": "e7c5b48f-efe7-4885-bfcb-fcfc891c5041",
   "metadata": {},
   "outputs": [],
   "source": [
    "class BigramIndex:\n",
    "\n",
    "    def __init__(self):\n",
    "        self.index = {}\n",
    "        self.invIdx = {}\n",
    "        self.docs = []\n",
    "        \n",
    "    def buildIndex(self):\n",
    "        files = os.listdir('Cranfield Data Set')\n",
    "        for i in range(20):\n",
    "            with open(f\"Cranfield Data Set\\{files[i]}\") as f:\n",
    "                text = f.read()\n",
    "                text = text.lower()\n",
    "                self.docs.append(text)\n",
    "                text = sorted(text.split())\n",
    "            for term in text:\n",
    "                if term in self.invIdx:\n",
    "                    if i not in self.invIdx[term]:\n",
    "                        self.invIdx[term].append(i)\n",
    "                else:\n",
    "                    self.invIdx[term] = [i]\n",
    "        for k in self.invIdx.keys():\n",
    "            term = '$' + k + '$'\n",
    "            tokens = [term[i:i+2] for i in range(len(term)-1)]\n",
    "            for i in tokens:\n",
    "                if i not in self.index:\n",
    "                    self.index.update({i: [k]})\n",
    "                else:\n",
    "                    self.index[i].append(k)"
   ]
  },
  {
   "cell_type": "code",
   "execution_count": 23,
   "id": "2fab8c16-1e55-4ec5-894d-1fd674ea6f19",
   "metadata": {},
   "outputs": [],
   "source": [
    "bgm = BigramIndex()\n",
    "bgm.buildIndex()"
   ]
  },
  {
   "cell_type": "markdown",
   "id": "93060650-9be0-44bf-bf78-f54fa8cbd5ab",
   "metadata": {},
   "source": [
    "----"
   ]
  },
  {
   "cell_type": "markdown",
   "id": "ed405998-ce72-446c-a72e-97b8ab30e07a",
   "metadata": {},
   "source": [
    "# 7. b) Process wildcard queries"
   ]
  },
  {
   "cell_type": "code",
   "execution_count": 20,
   "id": "61740529-7b04-4cc0-a90e-be5f32b58382",
   "metadata": {},
   "outputs": [],
   "source": [
    "class Query:\n",
    "\n",
    "    def __init__(self, query):\n",
    "        self.query = query\n",
    "        self.bigram = BigramIndex()\n",
    "        self.bigram.buildIndex()\n",
    "\n",
    "    def processQuery(self):\n",
    "        token = '$' + self.query\n",
    "        tokens = [token[i:i+2] for i in range(len(token)-1)]\n",
    "        ans = []\n",
    "        for t in tokens:\n",
    "            if t in self.bigram.index:\n",
    "                for k in self.bigram.index[t]:\n",
    "                    if k not in ans:\n",
    "                        ans.append(k)\n",
    "        if self.query[0] == '*':\n",
    "            result = [{d: self.bigram.invIdx[d]} for d in ans if d.endswith(self.query[1:])]    \n",
    "        elif self.query[-1] == '*':\n",
    "            result = [{d: self.bigram.invIdx[d]} for d in ans if d.startswith(self.query[:-1])]\n",
    "        else:\n",
    "            qt = self.query.split('*')\n",
    "            result = [{d: self.bigram.invIdx[d]} for d in ans if d.startswith(qt[0]) and d.endswith(qt[1])]\n",
    "        print(\"Documents retrieved: \")\n",
    "        for term in result:\n",
    "            for k, v in term.items():\n",
    "                print(k)\n",
    "                for i in v:\n",
    "                    print(self.bigram.docs[i])\n",
    "                    print()"
   ]
  },
  {
   "cell_type": "code",
   "execution_count": 19,
   "id": "faf862ee-03e6-41ba-a4c2-b1ca31268f7e",
   "metadata": {},
   "outputs": [
    {
     "name": "stdin",
     "output_type": "stream",
     "text": [
      "Enter the query: aero*\n"
     ]
    },
    {
     "name": "stdout",
     "output_type": "stream",
     "text": [
      "['a', 'after', 'agree', 'an', 'and', 'angles', 'as', 'at', 'attack', 'again', 'approximation', 'arises', 'are', 'also', 'aerodynamic', 'analytic', 'appears', 'additional', 'appeared', 'available', 'agreement', 'air', 'along', 'although', 'amount', 'angle', 'approximately', 'analysis', 'appreciably', 'above', 'aerodynamics', 'another', 'axial', 'acrothermoelasticity', 'aeroelastic', 'aeronautical', 'aircraft', 'alleviating', 'analytical', 'art', 'attacking', 'avenues', 'analog', 'application', 'achieved', \"ackeret's\", 'airfoils', 'almost', 'always', 'amounts', 'analyses', 'analyzing', 'applications', 'appreciable', 'areas', 'assumed', 'across', 'amplitude', 'applicability', 'approximate', 'approximations', 'authors', 'avoiding', 'analytically', 'apparent', 'associated', 'applicable', 'applied', 'assumption', 'axisymmetric', 'arranged', 'approach', 'apply', 'author', \"author's\", 'determine', 'different', 'experiment', 'experimental', 'layer', 'order', 'propeller', 'together', 'were', 'consider', 'considered', 'ferri', 'here', 'hypersonic', 'paper', 'there', 'boundarylayer', 'general', 'interface', 'longer', 'other', \"readers'\", 'reference', 'temperature', 'thermal', 'wassermann', '(spheres)', 'experiments', 'lateral', 'number', 'numbers', 'outer', 'per', 'performed', 'persist', 'power', 'rather', 'sublayer', 'supersonic', 'where', 'higher', 'terms', 'whether', 'earlier', 'greater', 'lacquer', 'lower', 'over', 'transverse', 'verified', 'differ', 'characteristics', 'interaction', 'interest', 'performances', 'wherein', 'concerned', 'engineers', 'interrelation', 'matter', 'transfer', 'under', 'differential', 'however', 'isothermal', 'proper', 'series', 'certain', 'determinant', 'discovery', 'flutter', 'generalized', 'interactions', 'inverse', 'iterative', 'larger', 'maneuvers', 'moreover', 'orders', 'powers', 'properties', 'thermoelastic', 'wherever', 'galerkin', 'iteration', 'numerically', 'several', 'experimentally', 'layers', 'preserving', 'mager', 'diffuser', 'impeller', 'zero', 'considerations', 'derived', 'generalization', 'generalizes', 'parameter', 'refers', 'reverts', 'reviewer', 'superiority', 'control', 'problem', 'produced', 'from', 'irrotational', 'rotational', 'propose', 'propulsion', 'roughness', 'row', 'surrounding', 'brooklyn', 'problems', 'program', 'grows', 'improved', 'introduction', 'procedure', 'profile', 'proposed', 'through']\n",
      "Documents retrieved: \n",
      "aerodynamic\n",
      "analytic solutions are presented for the transient heat conduction in composite slabs exposed at one surface to a triangular heat rate   this type of heating rate may occur for example during aerodynamic heating \n",
      "\n",
      "it will be shown that the differential equations for a heated plate with large temperature gradient and for a similar plate at constant temperature can be made the same by a proper modification of the thickness and the loading for the isothermal plate  this fact leads to the result that the stresses in the heated plate can be calculated from measured strains on the unheated plate by a series of relations called the similarity laws   the application of this analog theory to solid wings under aerodynamic heating is discussed in detail   the loading on the unheated analog wing is however complicated and involves the novel concept of feedback and body force loading   the problem of stressing a heated box wing structure can be solved by the same analog method and is briefly discussed \n",
      "\n",
      "representative applications are described which illustrate the extent to which simplifications in the solutions of high speed unsteady aeroelastic problems can be achieved through the use of certain aerodynamic techniques known collectively as piston theory   based on a physical model originally proposed by hayes and lighthill piston theory for airfoils and finite wings has been systematically developed by landahl utilizing expansions in powers of the thickness ratio and the inverse of the flight mach number m   when contributions of orders and are negligible the theory predicts a point function relationship between the local pressure on the surface of a wing and the normal component of fluid velocity produced by the wing's motion   the computation of generalized forces in aeroelastic equations such as the flutter determinant is then always reduced to elementary integrations of the assumed modes of motion    essentially closed form solutions are given for the bendingtorsion and control surface flutter properties of typical section airfoils at high mach numbers   these agree well with results of more exact theories wherever comparisons can be fairly made  moreover they demonstrate the increasingly important influence of thickness and profile shape as m grows larger a discovery that would be almost impossible using other available aerodynamic tools   the complexity of more practical flutter analyses eg on three dimensional wings and panels is shown to be substantially reduced by piston theory   an iterative procedure is outlined by which improved flutter eigenvalues can be found through the successive introduction of higher order terms in and     other applications to unsteady supersonic problems are reviewed including gust response and rapid maneuvers of elastic aircraft   steady state aeroelastic calculations are also discussed but for them piston theory amounts only to a slight modification of ackeret's formulas    suggestions are made regarding future research based on the new aerodynamic method with particular emphasis on areas where computational labor can be reduced with a minimum loss of precision   it is pointed out that a mach number zone exists where thermal effects are appreciable but nonlinear viscous interactions may be neglected and that in this zone piston theory is the logical way of estimating air loads when analyzing aerodynamic thermoelastic interaction problems \n",
      "\n",
      "aerodynamics\n",
      "there are in supersonic aerodynamics many situations of practical interest wherein streams of different velocities and in general different stagnation pressures mix with one another  in the majority of these problems the interaction between the two streams takes place in the presence of an axial pressure gradient   its effect on the characteristics of the mixing may influence significantly the performances of the devices wherein the phenomena cited above occur   a theoretical and experimental program of research to study mixing in the presence of axial pressure gradients is being carried on at the polytechnic institute of brooklyn \n",
      "\n",
      "aeroelastic\n",
      "the dominating factors in structural design of high speed aircraft are thermal and aeroelastic in origin   the subject matter is concerned largely with a discussion of these factors and their interrelation with one another   a summary is presented of some of the analytical and experimental tools available to aeronautical engineers to meet the demands of high speed flight upon aircraft structures   the state of the art with respect to heat transfer from the boundary layer into the structure modes of failure under combined load as well as thermal inputs and acrothermoelasticity is discussed   methods of attacking and alleviating structural and aeroelastic problems of high speed flight are summarized   finally some avenues of fundamental research are suggested \n",
      "\n",
      "representative applications are described which illustrate the extent to which simplifications in the solutions of high speed unsteady aeroelastic problems can be achieved through the use of certain aerodynamic techniques known collectively as piston theory   based on a physical model originally proposed by hayes and lighthill piston theory for airfoils and finite wings has been systematically developed by landahl utilizing expansions in powers of the thickness ratio and the inverse of the flight mach number m   when contributions of orders and are negligible the theory predicts a point function relationship between the local pressure on the surface of a wing and the normal component of fluid velocity produced by the wing's motion   the computation of generalized forces in aeroelastic equations such as the flutter determinant is then always reduced to elementary integrations of the assumed modes of motion    essentially closed form solutions are given for the bendingtorsion and control surface flutter properties of typical section airfoils at high mach numbers   these agree well with results of more exact theories wherever comparisons can be fairly made  moreover they demonstrate the increasingly important influence of thickness and profile shape as m grows larger a discovery that would be almost impossible using other available aerodynamic tools   the complexity of more practical flutter analyses eg on three dimensional wings and panels is shown to be substantially reduced by piston theory   an iterative procedure is outlined by which improved flutter eigenvalues can be found through the successive introduction of higher order terms in and     other applications to unsteady supersonic problems are reviewed including gust response and rapid maneuvers of elastic aircraft   steady state aeroelastic calculations are also discussed but for them piston theory amounts only to a slight modification of ackeret's formulas    suggestions are made regarding future research based on the new aerodynamic method with particular emphasis on areas where computational labor can be reduced with a minimum loss of precision   it is pointed out that a mach number zone exists where thermal effects are appreciable but nonlinear viscous interactions may be neglected and that in this zone piston theory is the logical way of estimating air loads when analyzing aerodynamic thermoelastic interaction problems \n",
      "\n",
      "aeronautical\n",
      "the dominating factors in structural design of high speed aircraft are thermal and aeroelastic in origin   the subject matter is concerned largely with a discussion of these factors and their interrelation with one another   a summary is presented of some of the analytical and experimental tools available to aeronautical engineers to meet the demands of high speed flight upon aircraft structures   the state of the art with respect to heat transfer from the boundary layer into the structure modes of failure under combined load as well as thermal inputs and acrothermoelasticity is discussed   methods of attacking and alleviating structural and aeroelastic problems of high speed flight are summarized   finally some avenues of fundamental research are suggested \n",
      "\n"
     ]
    }
   ],
   "source": [
    "q = Query(input(\"Enter the query:\"))\n",
    "q.processQuery()\n",
    "# print(\"\\nBi-gram Index:\")\n",
    "# for key, val in q.bigram.index.items():\n",
    "#     print(key)\n",
    "#     for i in val:\n",
    "#         print(\"\\t\",i)"
   ]
  }
 ],
 "metadata": {
  "kernelspec": {
   "display_name": "Python 3 (ipykernel)",
   "language": "python",
   "name": "python3"
  },
  "language_info": {
   "codemirror_mode": {
    "name": "ipython",
    "version": 3
   },
   "file_extension": ".py",
   "mimetype": "text/x-python",
   "name": "python",
   "nbconvert_exporter": "python",
   "pygments_lexer": "ipython3",
   "version": "3.11.4"
  }
 },
 "nbformat": 4,
 "nbformat_minor": 5
}
