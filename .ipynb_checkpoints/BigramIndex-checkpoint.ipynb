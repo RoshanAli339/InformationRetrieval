{
 "cells": [
  {
   "cell_type": "markdown",
   "id": "acc9298b-0321-4f4f-8926-0be30389f3c0",
   "metadata": {},
   "source": [
    "# 7. a) Build a Bigram Index"
   ]
  },
  {
   "cell_type": "code",
   "execution_count": 1,
   "id": "e7c5b48f-efe7-4885-bfcb-fcfc891c5041",
   "metadata": {},
   "outputs": [],
   "source": [
    "class BigramIndex:\n",
    "\n",
    "    def __init__(self):\n",
    "        self.index = {}\n",
    "        self.invIdx = {}\n",
    "        \n",
    "    def buildIndex(self):\n",
    "        for i in range(1, 21):\n",
    "            with open(f\"Data\\doc{i}.txt\") as f:\n",
    "                text = f.read()\n",
    "                text = text.lower()\n",
    "                text = text.split()\n",
    "                text = sorted(text)\n",
    "            for term in text:\n",
    "                if term in self.invIdx:\n",
    "                    if i in self.invIdx[term]:\n",
    "                        continue\n",
    "                    else:\n",
    "                        self.invIdx[term].append(i)\n",
    "                else:\n",
    "                    self.invIdx[term] = [i]\n",
    "        for k, v in self.invIdx.items():\n",
    "            term = '$' + k + '$'\n",
    "            tokens = [term[i:i+2] for i in range(len(term)-1)]\n",
    "            for i in tokens:\n",
    "                if i not in self.index:\n",
    "                    self.index.update({i: [{k: v}]})\n",
    "                else:\n",
    "                    self.index[i].append({k:v})"
   ]
  },
  {
   "cell_type": "markdown",
   "id": "93060650-9be0-44bf-bf78-f54fa8cbd5ab",
   "metadata": {},
   "source": [
    "----"
   ]
  },
  {
   "cell_type": "markdown",
   "id": "ed405998-ce72-446c-a72e-97b8ab30e07a",
   "metadata": {},
   "source": [
    "# 7. b) Process wildcard queries"
   ]
  },
  {
   "cell_type": "code",
   "execution_count": 2,
   "id": "61740529-7b04-4cc0-a90e-be5f32b58382",
   "metadata": {},
   "outputs": [],
   "source": [
    "class Query:\n",
    "\n",
    "    def __init__(self, query):\n",
    "        self.query = query\n",
    "        self.bigram = BigramIndex()\n",
    "        self.bigram.buildIndex()\n",
    "\n",
    "    def processQuery(self):\n",
    "        token = '$' + self.query[:-1]\n",
    "        tokens = [token[i:i+2] for i in range(len(token)-1)]\n",
    "        ans = []\n",
    "        for t in tokens:\n",
    "            if t in self.bigram.index:\n",
    "                for k in self.bigram.index[t]:\n",
    "                    if k not in ans:\n",
    "                        ans.append(k)\n",
    "        result = [d for d in ans if any(key.startswith(self.query[:-1]) for key in d.keys())]\n",
    "        return result\n",
    "    "
   ]
  },
  {
   "cell_type": "code",
   "execution_count": 12,
   "id": "faf862ee-03e6-41ba-a4c2-b1ca31268f7e",
   "metadata": {},
   "outputs": [
    {
     "name": "stdout",
     "output_type": "stream",
     "text": [
      "Results:\n",
      "\t{'applications': [1]}\n",
      "\t{'appliances': [14]}\n"
     ]
    }
   ],
   "source": [
    "q = Query(\"app*\")\n",
    "ans = q.processQuery()\n",
    "print(\"Results:\")\n",
    "for i in ans:\n",
    "    print(f\"\\t{i}\")\n",
    "# print(\"\\nBi-gram Index:\")\n",
    "# for key, val in q.bigram.index.items():\n",
    "#     print(key)\n",
    "#     for i in val:\n",
    "#         print(\"\\t\",i)"
   ]
  }
 ],
 "metadata": {
  "kernelspec": {
   "display_name": "Python 3 (ipykernel)",
   "language": "python",
   "name": "python3"
  },
  "language_info": {
   "codemirror_mode": {
    "name": "ipython",
    "version": 3
   },
   "file_extension": ".py",
   "mimetype": "text/x-python",
   "name": "python",
   "nbconvert_exporter": "python",
   "pygments_lexer": "ipython3",
   "version": "3.11.4"
  }
 },
 "nbformat": 4,
 "nbformat_minor": 5
}
