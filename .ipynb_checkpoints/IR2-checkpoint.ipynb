{
 "cells": [
  {
   "cell_type": "markdown",
   "id": "88075501-eeb7-4b60-a634-e408dad8cb3e",
   "metadata": {},
   "source": [
    "## 2. a) Create an **_Inverted Index_** for the given documents."
   ]
  },
  {
   "cell_type": "code",
   "execution_count": 27,
   "id": "fccb922e-65e3-4b91-998f-e5a9886203e3",
   "metadata": {},
   "outputs": [],
   "source": [
    "class term:\n",
    "    def __init__(self, s, freq, postings=[]):\n",
    "        self.s = s\n",
    "        self.freq = freq\n",
    "        self.postings = postings"
   ]
  },
  {
   "cell_type": "code",
   "execution_count": 67,
   "id": "8e046435-6dd6-40f7-a2f5-01e473ca29a4",
   "metadata": {},
   "outputs": [
    {
     "name": "stdin",
     "output_type": "stream",
     "text": [
      "Enter the number of documents to read:  4\n"
     ]
    },
    {
     "name": "stdout",
     "output_type": "stream",
     "text": [
      "approach 1 {3}\n",
      "breakthrough 1 {1}\n",
      "drug 2 {1, 2}\n",
      "for 3 {1, 3, 4}\n",
      "hopes 1 {4}\n",
      "new 3 {2, 3, 4}\n",
      "of 1 {3}\n",
      "patients 1 {4}\n",
      "schizophrenia 4 {1, 2, 3, 4}\n",
      "treatment 1 {3}\n"
     ]
    }
   ],
   "source": [
    "n = int(input(\"Enter the number of documents to read: \"))\n",
    "\n",
    "docs = []\n",
    "terms = []\n",
    "for i in range(n):\n",
    "    with open(f\"doc{i+1}.txt\", \"r\") as f:\n",
    "        docs.append(f.read())\n",
    "    terms += [[j.lower(), i+1] for j in docs[i].split()]\n",
    "terms = sorted(terms)\n",
    "\n",
    "termPostings = []\n",
    "i = 0\n",
    "while i < len(terms):\n",
    "    postings = [terms[i][1]]\n",
    "    freq = 1\n",
    "    j = i + 1\n",
    "    while j < len(terms) and terms[i][0] == terms[j][0]:\n",
    "        postings.append(terms[j][1])\n",
    "        freq += 1\n",
    "        j += 1\n",
    "    termPostings.append(term(terms[i][0], freq, set(postings)))\n",
    "    i = j\n",
    "for i in range(len(terms)):\n",
    "    terms[i] = terms[i][0]\n",
    "terms = sorted(list(set(terms)))\n",
    "for i in termPostings:\n",
    "    print(i.s, i.freq, i.postings)"
   ]
  },
  {
   "cell_type": "code",
   "execution_count": 68,
   "id": "01715ed3-294c-417d-9326-fc29d90c0f35",
   "metadata": {},
   "outputs": [
    {
     "name": "stdout",
     "output_type": "stream",
     "text": [
      "['approach', 'breakthrough', 'drug', 'for', 'hopes', 'new', 'of', 'patients', 'schizophrenia', 'treatment']\n"
     ]
    }
   ],
   "source": [
    "print(terms)"
   ]
  },
  {
   "cell_type": "markdown",
   "id": "33ce356b-8dd8-4d89-ae02-5f1d2726de08",
   "metadata": {},
   "source": [
    "--- "
   ]
  },
  {
   "cell_type": "markdown",
   "id": "5b8380a5-4cbf-41d2-9377-1fc6c9fdbc2b",
   "metadata": {},
   "source": [
    "## 2. b) Process boolean queries"
   ]
  },
  {
   "cell_type": "code",
   "execution_count": 70,
   "id": "1eca655a-9e8b-40d9-a0a7-cd6f1b974dea",
   "metadata": {},
   "outputs": [],
   "source": [
    "def binOp(termPostings, op, n):\n",
    "    if op == 'NOT':\n",
    "        return termPostings[0] - set(range(1, n+1))\n",
    "    elif op == 'AND':\n",
    "        return termPostings[0].intersection(termPostings[1])\n",
    "    elif op == 'OR':\n",
    "        return termPostings[0].union(termPostings[1])"
   ]
  },
  {
   "cell_type": "code",
   "execution_count": 80,
   "id": "05bf042f-dc24-4c72-bf84-d2b28f9411a1",
   "metadata": {},
   "outputs": [],
   "source": [
    "def andor(query, n):\n",
    "    vals = []\n",
    "    flag = 0\n",
    "    for i in range(len(query)):\n",
    "        if query[i] not in [\"AND\", \"OR\"]:\n",
    "            vals.append(query[i])\n",
    "            if flag == 1:\n",
    "                vals = binOp(vals, query[i-1], n)\n",
    "                flag = 0\n",
    "        else:\n",
    "            flag = 1\n",
    "    return vals"
   ]
  },
  {
   "cell_type": "code",
   "execution_count": 89,
   "id": "e705cbb7-9a39-4d0f-bd28-18aec70c05d3",
   "metadata": {},
   "outputs": [],
   "source": [
    "def processQ(query, n):\n",
    "    sIdx = 0\n",
    "    ans = []\n",
    "    while sIdx < len(query):\n",
    "        sIdx = query.index('(') if '(' in query else -1\n",
    "        if sIdx == -1:\n",
    "            break\n",
    "        for i in range(sIdx, len(query)):\n",
    "            idx1 = query.index('(', sIdx) if '(' in query else -1\n",
    "            idx2 = query.index(')', sIdx) if ')' in query else -1\n",
    "            if idx1 > idx2: break\n",
    "            sIdx = idx1 if idx1 != -1 else sIdx\n",
    "        eIdx = query.index(')', sIdx)\n",
    "        ans = processQ(query[sIdx+1:eIdx], n)\n",
    "        del query[sIdx+1:eIdx+1]\n",
    "        query[sIdx] = ans\n",
    "    idx = 0\n",
    "    while idx < len(query):\n",
    "        idx = query.index(\"NOT\") if \"NOT\" in query else -1\n",
    "        if idx == -1:\n",
    "            break\n",
    "        ans = binOp([query[idx+1]], \"NOT\", n)\n",
    "        del query[idx+1]\n",
    "        query[idx] = ans\n",
    "    query = andor(query, n)\n",
    "    return query"
   ]
  },
  {
   "cell_type": "code",
   "execution_count": 90,
   "id": "44829061-df8e-4e8d-a4a8-9ac68dfcfcc8",
   "metadata": {},
   "outputs": [
    {
     "name": "stdin",
     "output_type": "stream",
     "text": [
      "Enter the boolean query: ( schizophrenia AND approach ) OR new\n",
      "Enter number of documents:  4\n"
     ]
    },
    {
     "name": "stdout",
     "output_type": "stream",
     "text": [
      "The request query is processed and the documents are: \n",
      "Document2:  new schizophrenia drug\n",
      "Document3:  new approach for treatment of schizophrenia\n",
      "Document4:  new hopes for schizophrenia patients\n"
     ]
    }
   ],
   "source": [
    "query = input(\"Enter the boolean query:\").split()\n",
    "n = int(input(\"Enter number of documents: \"))\n",
    "flag = 0\n",
    "for i in range(len(query)):\n",
    "    if query[i] in terms:\n",
    "        query[i] = termPostings[terms.index(query[i])].postings\n",
    "    elif query[i] in [\"(\", \")\", \"NOT\", \"AND\", \"OR\"]:\n",
    "        continue\n",
    "    else:\n",
    "        print(query[i])\n",
    "        print(\"Invalid query!\")\n",
    "        flag = 1\n",
    "        break\n",
    "if flag == 0:\n",
    "    ans = processQ(query, 4)\n",
    "    print(\"The request query is processed and the documents are: \")\n",
    "    for i in ans:\n",
    "        print(f\"Document{i}: \", docs[i-1])"
   ]
  }
 ],
 "metadata": {
  "kernelspec": {
   "display_name": "Python 3 (ipykernel)",
   "language": "python",
   "name": "python3"
  },
  "language_info": {
   "codemirror_mode": {
    "name": "ipython",
    "version": 3
   },
   "file_extension": ".py",
   "mimetype": "text/x-python",
   "name": "python",
   "nbconvert_exporter": "python",
   "pygments_lexer": "ipython3",
   "version": "3.11.4"
  }
 },
 "nbformat": 4,
 "nbformat_minor": 5
}
