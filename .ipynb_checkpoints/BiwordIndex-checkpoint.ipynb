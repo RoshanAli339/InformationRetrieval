{
 "cells": [
  {
   "cell_type": "markdown",
   "id": "3da95b75",
   "metadata": {},
   "source": [
    "# Biword Index"
   ]
  },
  {
   "cell_type": "markdown",
   "id": "7ce8190d-e43e-4a58-9fc5-eccd7f4b9316",
   "metadata": {},
   "source": [
    "--- "
   ]
  },
  {
   "cell_type": "markdown",
   "id": "8a8886ea-3111-4a26-aa6d-c620af04da18",
   "metadata": {},
   "source": [
    "### Used to create a dictionary of biword indexes of the documents"
   ]
  },
  {
   "cell_type": "code",
   "execution_count": 1,
   "id": "3febd2bf",
   "metadata": {},
   "outputs": [],
   "source": [
    "class Biword:\n",
    "    \n",
    "    def __init__(self):\n",
    "        self.index = {}\n",
    "        \n",
    "    def buildIndex(self):\n",
    "        for i in range(1, 5):\n",
    "            with open(f\"Data/doc{i}.txt\", \"r\") as f:\n",
    "                text = f.read()\n",
    "                text = text.split()\n",
    "                for j in range(len(text)-1):\n",
    "                    s = text[j] + ' ' + text[j + 1]\n",
    "                    if s in self.index:\n",
    "                        self.index[s].append(i)\n",
    "                    else:\n",
    "                        self.index[s] = [i]\n",
    "        for k, v in self.index.items():\n",
    "            self.index[k] = list(set(v))\n",
    "    "
   ]
  }
 ],
 "metadata": {
  "kernelspec": {
   "display_name": "Python 3 (ipykernel)",
   "language": "python",
   "name": "python3"
  },
  "language_info": {
   "codemirror_mode": {
    "name": "ipython",
    "version": 3
   },
   "file_extension": ".py",
   "mimetype": "text/x-python",
   "name": "python",
   "nbconvert_exporter": "python",
   "pygments_lexer": "ipython3",
   "version": "3.11.4"
  }
 },
 "nbformat": 4,
 "nbformat_minor": 5
}
