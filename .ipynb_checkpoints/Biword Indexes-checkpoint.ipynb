{
 "cells": [
  {
   "cell_type": "markdown",
   "id": "bdd29319-85af-4bb5-a517-d9daac67abbb",
   "metadata": {},
   "source": [
    "## 3) Construct **_biword indexes_** and process the queries"
   ]
  },
  {
   "cell_type": "code",
   "execution_count": 14,
   "id": "32befd8d-9c24-4798-b267-caa7412ea369",
   "metadata": {
    "editable": true,
    "slideshow": {
     "slide_type": ""
    },
    "tags": []
   },
   "outputs": [
    {
     "name": "stdout",
     "output_type": "stream",
     "text": [
      "breakthrough [1]\n",
      "drug [1, 2, 3]\n",
      "for [1, 3, 4]\n",
      "schizophrenia [1, 2, 3, 4]\n",
      "great [1]\n",
      "discovery [1]\n",
      "doctors [1]\n",
      "new [2, 3, 4]\n",
      "still [2]\n",
      "in [2]\n",
      "development [2]\n",
      "trails [3]\n",
      "complete [3]\n",
      "approach [3]\n",
      "treatment [3]\n",
      "of [3]\n",
      "hopes [4]\n",
      "patients [4]\n"
     ]
    }
   ],
   "source": [
    "import os\n",
    "%run InvertedIndex.ipynb"
   ]
  },
  {
   "cell_type": "code",
   "execution_count": 20,
   "id": "8e4db63a-ff9e-4ee5-b12b-062450492287",
   "metadata": {
    "editable": true,
    "slideshow": {
     "slide_type": ""
    },
    "tags": []
   },
   "outputs": [],
   "source": [
    "class BiwordIndex(InvertedIndex):\n",
    "\n",
    "    def __init__(self):\n",
    "        self.index = {}\n",
    "        self.fileIndex = {}\n",
    "\n",
    "    def build_index(self, path='Data'):\n",
    "        idx = int(1)\n",
    "        for filename in os.listdir(path):\n",
    "            self.fileIndex[filename] = idx\n",
    "            with open(filename, \"r\") as f:\n",
    "                text = f.read()\n",
    "                text = text.lower()\n",
    "                text = text.split()\n",
    "                for i in range(len(text)-1):\n",
    "                    biword = text[i] + ' ' + text[i+1]\n",
    "                    if biword not in self.index:\n",
    "                        self.index[biword] = [self.fileIndex[filename]]\n",
    "                    else:\n",
    "                        self.index[biword].append(self.fileIndex[filename])\n",
    "            for k, v in self.index.items():\n",
    "                self.index[k] = list(set(v))\n",
    "            idx += 1"
   ]
  },
  {
   "cell_type": "code",
   "execution_count": 21,
   "id": "fad2a6c5-2d46-4b7d-8a98-f6b61d6d156c",
   "metadata": {
    "editable": true,
    "slideshow": {
     "slide_type": ""
    },
    "tags": []
   },
   "outputs": [
    {
     "name": "stdout",
     "output_type": "stream",
     "text": [
      "breakthrough drug [1]\n",
      "drug for [1]\n",
      "for schizophrenia [1, 4]\n",
      "new schizophrenia [2]\n",
      "schizophrenia drug [2]\n",
      "new approach [3]\n",
      "approach for [3]\n",
      "for treatment [3]\n",
      "treatment of [3]\n",
      "of schizophrenia [3]\n",
      "new hopes [4]\n",
      "hopes for [4]\n",
      "schizophrenia patients [4]\n"
     ]
    }
   ],
   "source": [
    "ob1 = BiwordIndex()\n",
    "ob1.build_index()\n",
    "for k, v in ob1.index.items():\n",
    "    print(k, v)"
   ]
  }
 ],
 "metadata": {
  "kernelspec": {
   "display_name": "Python 3 (ipykernel)",
   "language": "python",
   "name": "python3"
  },
  "language_info": {
   "codemirror_mode": {
    "name": "ipython",
    "version": 3
   },
   "file_extension": ".py",
   "mimetype": "text/x-python",
   "name": "python",
   "nbconvert_exporter": "python",
   "pygments_lexer": "ipython3",
   "version": "3.11.4"
  }
 },
 "nbformat": 4,
 "nbformat_minor": 5
}
