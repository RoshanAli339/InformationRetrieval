{
 "cells": [
  {
   "cell_type": "markdown",
   "id": "b9d91ece-277a-4307-9b32-f09c5ef54be4",
   "metadata": {},
   "source": [
    "# K-Means Clustering"
   ]
  },
  {
   "cell_type": "code",
   "execution_count": 5,
   "id": "ebafe8f4-35fb-4056-8568-f015231be7dd",
   "metadata": {},
   "outputs": [
    {
     "name": "stdin",
     "output_type": "stream",
     "text": [
      "Enter number of clusters you would like to divide data into: 2\n"
     ]
    },
    {
     "name": "stdout",
     "output_type": "stream",
     "text": [
      "Input format is as follows\n",
      "Gender Age Annual Income (k$) Spending Score (1-100) "
     ]
    },
    {
     "name": "stdin",
     "output_type": "stream",
     "text": [
      "\n",
      "Enter input: Female 29 61 73\n"
     ]
    },
    {
     "name": "stdout",
     "output_type": "stream",
     "text": [
      "The input belongs to the cluster 2\n"
     ]
    }
   ],
   "source": [
    "import numpy as np\n",
    "import pandas as pd\n",
    "\n",
    "data=pd.read_csv(\"Mall_Customers.csv\")\n",
    "data=data.drop(['CustomerID'],axis=1)\n",
    "col=data.columns\n",
    "\n",
    "def hashdata(df,data):\n",
    "    for i in range(len(col)):\n",
    "        if type(list(data[data.columns[i]])[0])==type('str'):\n",
    "            nvalues=data[data.columns[i]].nunique()\n",
    "            values=list(data[data.columns[i]].unique())\n",
    "            l=range(nvalues)\n",
    "            for j in range(nvalues):\n",
    "                try:\n",
    "                    df[data.columns[i]]=df[data.columns[i]].str.replace(values[j],str(l[j]))\n",
    "                    df[data.columns[i]] = df[data.columns[i]].astype(int)\n",
    "                except:\n",
    "                    continue\n",
    "    return df\n",
    "\n",
    "df=data.copy()\n",
    "df=hashdata(df,data)\n",
    "k=int(input(\"Enter number of clusters you would like to divide data into:\"))\n",
    "clus=[]\n",
    "cent=[]\n",
    "for i in range(k):\n",
    "    x=pd.Series(np.ravel(df.values[i:i+1]))\n",
    "    clus.append(x)\n",
    "    cent.append([x])\n",
    "    \n",
    "def return_cluster_index(k,clus,x):\n",
    "    dis=[]\n",
    "    for i in range(k):\n",
    "        dis.append(sum((clus[i]-x)**2)**0.5)\n",
    "    ind=dis.index(min(dis))\n",
    "    return ind\n",
    "def clusterise(x,clus,k,cent):\n",
    "    ind=return_cluster_index(k,clus,x)\n",
    "    clus[ind]=(clus[ind]*len(cent[ind])+x)/(len(cent[ind])+1)\n",
    "    cent[ind].append(x)\n",
    "    return clus,cent\n",
    "\n",
    "for i in range(data[col[0]].count()):\n",
    "    if(i<k):\n",
    "        continue\n",
    "    x=pd.Series(np.ravel(df.values[i:i+1]))\n",
    "    clus,cent=clusterise(x,clus,k,cent)\n",
    "print('Input format is as follows')\n",
    "for i in df.columns:\n",
    "    print(i,end=' ')\n",
    "inp=input(\"\\nEnter input:\").split()\n",
    "dic={}\n",
    "inpdf=pd.DataFrame(inp)\n",
    "inpdf2=inpdf.transpose()\n",
    "for i in inpdf2.columns:\n",
    "    dic[i]=col[i]\n",
    "inpdf2.rename(columns = dic, inplace = True)\n",
    "inpdf2=hashdata(inpdf2,data)\n",
    "inp=pd.Series(np.ravel(inpdf2.values[:1].astype(int)))\n",
    "ind=return_cluster_index(k,clus,inp)\n",
    "print(\"The input belongs to the cluster\",ind+1)"
   ]
  }
 ],
 "metadata": {
  "kernelspec": {
   "display_name": "Python 3 (ipykernel)",
   "language": "python",
   "name": "python3"
  },
  "language_info": {
   "codemirror_mode": {
    "name": "ipython",
    "version": 3
   },
   "file_extension": ".py",
   "mimetype": "text/x-python",
   "name": "python",
   "nbconvert_exporter": "python",
   "pygments_lexer": "ipython3",
   "version": "3.11.4"
  }
 },
 "nbformat": 4,
 "nbformat_minor": 5
}
