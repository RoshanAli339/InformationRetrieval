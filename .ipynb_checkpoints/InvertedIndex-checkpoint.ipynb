{
 "cells": [
  {
   "cell_type": "markdown",
   "id": "51109135",
   "metadata": {},
   "source": [
    "# Inverted Index"
   ]
  },
  {
   "cell_type": "markdown",
   "id": "ef051be6-228e-447f-b064-dc032e85ab0d",
   "metadata": {},
   "source": [
    "----"
   ]
  },
  {
   "cell_type": "markdown",
   "id": "47a3f0b6-cfaa-4873-b413-bdc8384f31eb",
   "metadata": {},
   "source": [
    "### A Class that creates and stores Inverted Indexes of words from documents"
   ]
  },
  {
   "cell_type": "code",
   "execution_count": 3,
   "id": "6c22e840",
   "metadata": {},
   "outputs": [],
   "source": [
    "class InvertedIndex:\n",
    "    \n",
    "    def __init__(self):\n",
    "        self.index = {}\n",
    "        \n",
    "    def buildIndex(self):\n",
    "        for i in range(1, 5):\n",
    "            with open(f\"Data/doc{i}.txt\", \"r\") as f:\n",
    "                text = f.read()\n",
    "                text = text.split()\n",
    "                \n",
    "                for term in text:\n",
    "                    if term not in self.index:\n",
    "                        self.index[term] = [i]\n",
    "                    else:\n",
    "                        self.index[term].append(i)\n",
    "        for k, v in self.index.items():\n",
    "            self.index[k] = list(set(v))"
   ]
  }
 ],
 "metadata": {
  "kernelspec": {
   "display_name": "Python 3 (ipykernel)",
   "language": "python",
   "name": "python3"
  },
  "language_info": {
   "codemirror_mode": {
    "name": "ipython",
    "version": 3
   },
   "file_extension": ".py",
   "mimetype": "text/x-python",
   "name": "python",
   "nbconvert_exporter": "python",
   "pygments_lexer": "ipython3",
   "version": "3.11.4"
  }
 },
 "nbformat": 4,
 "nbformat_minor": 5
}
