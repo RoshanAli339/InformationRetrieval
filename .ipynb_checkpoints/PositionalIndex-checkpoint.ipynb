{
 "cells": [
  {
   "cell_type": "markdown",
   "id": "5b5248f1",
   "metadata": {},
   "source": [
    "# 4. a) Create positional index from the given documents"
   ]
  },
  {
   "cell_type": "code",
   "execution_count": 1,
   "id": "9db45db5-fd0c-40d1-a872-9276e481320b",
   "metadata": {},
   "outputs": [],
   "source": [
    "import os"
   ]
  },
  {
   "cell_type": "code",
   "execution_count": 84,
   "id": "3c7eabaa",
   "metadata": {},
   "outputs": [],
   "source": [
    "class PositionalIndex:\n",
    "    \n",
    "    def __init__(self):\n",
    "        self.index = {}\n",
    "        self.docs = []\n",
    "        \n",
    "    def buildIndex(self):\n",
    "        files = os.listdir('Cranfield Data Set')\n",
    "        for i in range(20):\n",
    "            with open(f\"Cranfield Data Set/{files[i]}\", \"r\") as f:\n",
    "                text = f.read()\n",
    "                text = text.lower()\n",
    "                self.docs.append(text)\n",
    "                text = text.split()\n",
    "            for j in range(len(text)):\n",
    "                if text[j] in self.index:\n",
    "                    if i in self.index[text[j]]:\n",
    "                        self.index[text[j]][i][0] += 1\n",
    "                        self.index[text[j]][i][1].append(j)\n",
    "                    else:    \n",
    "                        self.index[text[j]].update({i: [1, [j]]})\n",
    "                else:\n",
    "                    self.index[text[j]] = {i: [1, [j]]}"
   ]
  },
  {
   "cell_type": "markdown",
   "id": "7ebb23eb",
   "metadata": {},
   "source": [
    "# 4. b) Process phrase queries from Positional Index"
   ]
  },
  {
   "cell_type": "code",
   "execution_count": 93,
   "id": "34f22554",
   "metadata": {},
   "outputs": [],
   "source": [
    "class Query:\n",
    "    \n",
    "    def __init__(self, query):\n",
    "        self.query = query\n",
    "        self.query = self.query.replace('(', '( ')\n",
    "        self.query = self.query.replace(')', ' )')\n",
    "        self.pos = PositionalIndex()\n",
    "        self.pos.buildIndex()\n",
    "    \n",
    "    def processPositional(self):\n",
    "        if self.query == '':\n",
    "            return []\n",
    "        queryPos = self.query.split()\n",
    "        ans = []\n",
    "        if queryPos[0] in self.pos.index:\n",
    "            first = self.pos.index[queryPos[0]]\n",
    "        else:\n",
    "            return []\n",
    "        for docId, vals in first.items():\n",
    "            count = 0\n",
    "            for i in range(1, len(queryPos)):\n",
    "                if docId not in self.pos.index[queryPos[i]]:\n",
    "                   break\n",
    "                postings1 = vals[1]\n",
    "                postings2 = self.pos.index[queryPos[i]][docId][1]\n",
    "                for x in postings1:\n",
    "                    for y in postings2:\n",
    "                        if y < x:\n",
    "                            continue\n",
    "                        elif abs(x - y) == i:\n",
    "                            count += 1\n",
    "            if count > len(queryPos)-1:\n",
    "                ans.append(docId)\n",
    "        print(\"Documents retrieved:\")\n",
    "        for i in ans:\n",
    "            print(self.pos.docs[i])\n",
    "            print()"
   ]
  },
  {
   "cell_type": "code",
   "execution_count": 97,
   "id": "35f2fbbf",
   "metadata": {},
   "outputs": [
    {
     "name": "stdin",
     "output_type": "stream",
     "text": [
      "Enter the query: flutter of a buckled plate\n"
     ]
    },
    {
     "name": "stdout",
     "output_type": "stream",
     "text": [
      "Documents retrieved:\n",
      "theory and experiments of the flutter of a buckled plate are discussed   it is shown that an increase in the initial deviation from flatness or a static pressure differential across the plate raises the critical value of the reduced velocity    the applicability of the galerkin method to the linearized problem of flutter of an unbuckled plate has been questioned by several authors   in this paper the flutter condition was formulated in the form of an integral equation and solved numerically by the method of iteration and the method of matrix approximations thus avoiding the constraint of assumed modes   for a plate (with finite bending rigidity) the results confirm those given by the galerkin method    an approximate analysis of the limiting form and amplitude of the flutter motion for a buckled plate is presented \n",
      "\n"
     ]
    }
   ],
   "source": [
    "query = input(\"Enter the query:\")\n",
    "q = Query(query)\n",
    "q.processPositional()"
   ]
  }
 ],
 "metadata": {
  "kernelspec": {
   "display_name": "Python 3 (ipykernel)",
   "language": "python",
   "name": "python3"
  },
  "language_info": {
   "codemirror_mode": {
    "name": "ipython",
    "version": 3
   },
   "file_extension": ".py",
   "mimetype": "text/x-python",
   "name": "python",
   "nbconvert_exporter": "python",
   "pygments_lexer": "ipython3",
   "version": "3.11.4"
  }
 },
 "nbformat": 4,
 "nbformat_minor": 5
}
