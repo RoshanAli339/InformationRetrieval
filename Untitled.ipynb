{
 "cells": [
  {
   "cell_type": "code",
   "execution_count": 6,
   "id": "ad3abb31",
   "metadata": {},
   "outputs": [],
   "source": [
    "%run Query.ipynb"
   ]
  },
  {
   "cell_type": "code",
   "execution_count": 8,
   "id": "1a9c02b2",
   "metadata": {},
   "outputs": [
    {
     "name": "stdout",
     "output_type": "stream",
     "text": [
      "[2, 3]\n",
      "[2, 3]\n"
     ]
    }
   ],
   "source": [
    "query = \"have suffered alteration\"\n",
    "# creating query object\n",
    "q = Query(query)\n",
    "ans = q.processBiword()\n",
    "print(ans)\n",
    "ans2 = q.processPositional()\n",
    "print(ans2)"
   ]
  },
  {
   "cell_type": "code",
   "execution_count": 7,
   "id": "75fa6b3a",
   "metadata": {},
   "outputs": [
    {
     "name": "stdout",
     "output_type": "stream",
     "text": [
      "[2, 3, 4]\n"
     ]
    }
   ],
   "source": [
    "query = \"have suffered alteration or denouncing\"\n",
    "q = Query(query)\n",
    "ans = q.process_query()\n",
    "print(ans)"
   ]
  }
 ],
 "metadata": {
  "kernelspec": {
   "display_name": "Python 3 (ipykernel)",
   "language": "python",
   "name": "python3"
  },
  "language_info": {
   "codemirror_mode": {
    "name": "ipython",
    "version": 3
   },
   "file_extension": ".py",
   "mimetype": "text/x-python",
   "name": "python",
   "nbconvert_exporter": "python",
   "pygments_lexer": "ipython3",
   "version": "3.11.4"
  }
 },
 "nbformat": 4,
 "nbformat_minor": 5
}
