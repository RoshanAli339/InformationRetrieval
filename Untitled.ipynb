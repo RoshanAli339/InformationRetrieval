{
 "cells": [
  {
   "cell_type": "code",
   "execution_count": 1,
   "id": "9540456d-b6cc-4a46-a33d-4cd87b468eb8",
   "metadata": {},
   "outputs": [],
   "source": [
    "lst1 = [\n",
    "'''The design and analysis of algorithms is a fundamental area of computer science that deals with the creation and study of efficient algorithms for solving computational problems. Algorithms are the building blocks of software, and the quality of an algorithm can have a significant impact on the performance of a computer program.''',\n",
    "'''The development and implementation of software systems is a complex process that involves a wide range of activities, from requirements gathering and analysis to design, coding, testing, and deployment. Software systems are essential for businesses of all sizes, and the ability to develop and implement high-quality systems is a valuable skill.''',\n",
    "'''The application of engineering principles to solve real-world problems is what engineers do. Engineers use their knowledge of mathematics, science, and technology to design, develop, and build solutions to a wide range of problems, from bridges and buildings to cars and airplanes.''',\n",
    "'''The study of electricity and its applications is electrical engineering. Electrical engineers design, develop, test, and maintain electrical systems and devices, such as power generation systems, transmission and distribution lines, and electrical motors.''',\n",
    "'''Mechanical engineering is the branch of engineering that deals with the design, development, and testing of mechanical systems and components. Mechanical engineers design everything from cars and airplanes to robots and medical devices.''',\n",
    "'''Civil engineering is the branch of engineering that deals with the design, construction, and maintenance of the physical infrastructure of our society. Civil engineers design and build roads, bridges, buildings, dams, and other critical infrastructure.''',\n",
    "'''Chemical engineering is the branch of engineering that deals with the design, development, and operation of chemical processes. Chemical engineers develop new products and processes, and they also improve existing ones.''',\n",
    "'''Materials science and engineering is the branch of engineering that deals with the study and creation of materials. Materials scientists and engineers develop new materials with improved properties, and they also study the behavior of existing materials.''',\n",
    "'''Aerospace engineering is the branch of engineering that deals with the design, development, and testing of aircraft and spacecraft. Aerospace engineers develop new technologies for flight, and they also work to improve the safety and efficiency of existing aircraft and spacecraft.''',\n",
    "'''Biomedical engineering is the branch of engineering that applies engineering principles to medicine. Biomedical engineers develop new medical devices and treatments, and they also work to improve the quality of healthcare.'''\n",
    "]"
   ]
  },
  {
   "cell_type": "code",
   "execution_count": 2,
   "id": "36db7edb-cdc3-490f-8b7f-7388feb6008b",
   "metadata": {},
   "outputs": [],
   "source": [
    "lst2 = [\n",
    "'''The study of the human body and its diseases is the foundation of medicine. Medical professionals use their knowledge of anatomy, physiology, and pathology to diagnose and treat diseases. They also use their knowledge to prevent diseases and promote health.''',\n",
    "'''The diagnosis, treatment, and prevention of disease is the core of medical practice. Medical professionals use a variety of tools and techniques to diagnose diseases, including physical examinations, laboratory tests, and imaging studies. They also use a variety of treatments, including medications, surgery, and therapy.''',\n",
    "'''The development of new drugs and therapies is an essential part of medicine. Medical researchers are constantly working to develop new and better ways to treat diseases. They use their knowledge of biology, chemistry, and pharmacology to design and test new drugs and therapies.''',\n",
    "'''The study and treatment of mental disorders is the field of psychiatry. Psychiatrists use a variety of tools and techniques to diagnose and treat mental disorders, including medication, psychotherapy, and cognitive-behavioral therapy.''',\n",
    "'''The study and treatment of children's health is the field of pediatrics. Pediatricians provide a wide range of healthcare services to children, from preventive care to immunizations to the diagnosis and treatment of childhood diseases.''',\n",
    "'''The study and treatment of the elderly is the field of geriatrics. Geriatricians focus on the unique healthcare needs of older adults, such as chronic disease management, medication management, and fall prevention.''',\n",
    "'''The study and treatment of women's health is the field of gynecology. Gynecologists provide a wide range of healthcare services to women, from preventive care to Pap smears to the diagnosis and treatment of women's health conditions.''',\n",
    "'''The study and treatment of diseases of the heart and blood vessels is the field of cardiology. Cardiologists specialize in the diagnosis and treatment of heart disease, heart failure, and arrhythmias.''',\n",
    "'''The study and treatment of diseases of the digestive system is the field of gastroenterology. Gastroenterologists specialize in the diagnosis and treatment of conditions such as irritable bowel syndrome, Crohn's disease, and ulcerative colitis.''',\n",
    "'''The study and treatment of cancer is the field of oncology.'''\n",
    "]"
   ]
  },
  {
   "cell_type": "code",
   "execution_count": 3,
   "id": "1fc33fea-a46a-4110-85da-056e749a54e2",
   "metadata": {},
   "outputs": [],
   "source": [
    "lst3 = [\n",
    "'''The preparation and auditing of financial statements is a core function of chartered accountants. Chartered accountants are responsible for ensuring that financial statements are accurate and complete, and that they comply with all applicable accounting standards.''',\n",
    "'''The provision of tax advice and planning is another important service that chartered accountants provide. Chartered accountants can help individuals and businesses to minimize their tax liabilities and comply with all applicable tax laws.''',\n",
    "'''The management of financial records is also a responsibility of chartered accountants. Chartered accountants can help individuals and businesses to keep accurate and organized financial records, which is essential for managing their finances effectively.''',\n",
    "'''Chartered accountants play a vital role in the financial reporting process. They ensure that financial statements are accurate, complete, and compliant with all applicable standards. This information is used by investors, creditors, and other stakeholders to make informed decisions about businesses.''',\n",
    "'''Chartered accountants also play an important role in the tax system. They help individuals and businesses to comply with their tax obligations and minimize their tax liabilities. This ensures that the government can collect the revenue it needs to fund essential services.''',\n",
    "'''Chartered accountants are also involved in corporate governance. They advise companies on how to establish sound financial controls and governance practices. This helps to protect the interests of shareholders and other stakeholders.''',\n",
    "'''Chartered accountants are also involved in forensic accounting. They investigate financial fraud and other financial crimes. This helps to protect businesses and individuals from financial losses.''',\n",
    "'''Chartered accountants are also involved in insolvency and bankruptcy. They help businesses and individuals to reorganize their finances or liquidate their assets. This helps to protect creditors and other stakeholders.''',\n",
    "'''Chartered accountants are also involved in public accounting. They provide a wide range of services to individuals and businesses, including tax planning, auditing, and financial consulting.''',\n",
    "'''Chartered accountants are also involved in management accounting. They provide financial information and analysis to help businesses make informed decisions.'''\n",
    "]"
   ]
  },
  {
   "cell_type": "code",
   "execution_count": null,
   "id": "40f77ae6-d585-4324-a5e5-5614442a799f",
   "metadata": {},
   "outputs": [],
   "source": [
    "import os\n",
    "\n",
    "# Create the parent directory if it doesn't exist\n",
    "if not os.path.exists('classifications'):\n",
    "    os.makedirs('classifications')\n",
    "\n",
    "# Create the engineering directory if it doesn't exist\n",
    "if not os.path.exists('classifications/engineering'):\n",
    "    os.makedirs('classifications/engineering')\n",
    "\n",
    "# Write the engineering documents to the engineering directory\n",
    "for i, document in enumerate(engineering_documents):\n",
    "    with open('classifications/engineering/document{}.txt'.format(i + 1), 'w') as f:\n",
    "        f.write(document)\n",
    "\n",
    "# Create the medicine directory if it doesn't exist\n",
    "if not os.path.exists('classifications/medicine'):\n",
    "    os.makedirs('classifications/medicine')\n",
    "\n",
    "# Write the medicine documents to the medicine directory\n",
    "for i, document in enumerate(medicine_documents):\n",
    "    with open('classifications/medicine/document{}.txt'.format(i + 1), 'w') as f:\n",
    "        f.write(document)\n",
    "\n",
    "# Create the chartered accountants directory if it doesn't exist\n",
    "if not os.path.exists('classifications/chartered_accountants'):\n",
    "    os.makedirs('classifications/chartered_accountants')\n",
    "\n",
    "# Write the chartered accountants documents to the chartered accountants directory\n",
    "for i, document in enumerate(chartered_accountants_documents):\n",
    "    with open('classifications/chartered_accountants/document{}.txt'.format(i + 1), 'w') as f:\n",
    "        f.write(document)\n"
   ]
  }
 ],
 "metadata": {
  "kernelspec": {
   "display_name": "Python 3 (ipykernel)",
   "language": "python",
   "name": "python3"
  },
  "language_info": {
   "codemirror_mode": {
    "name": "ipython",
    "version": 3
   },
   "file_extension": ".py",
   "mimetype": "text/x-python",
   "name": "python",
   "nbconvert_exporter": "python",
   "pygments_lexer": "ipython3",
   "version": "3.11.4"
  }
 },
 "nbformat": 4,
 "nbformat_minor": 5
}
