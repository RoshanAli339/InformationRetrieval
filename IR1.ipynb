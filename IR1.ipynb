{
 "cells": [
  {
   "cell_type": "markdown",
   "id": "d3f4f048-fd72-42a0-bea3-6b08744da440",
   "metadata": {},
   "source": [
    "### 1. a) Create a **_Term Document Incidence Matrix_** for the given documents"
   ]
  },
  {
   "cell_type": "code",
   "execution_count": 2,
   "id": "41f38e82-7ca1-4890-aa88-0840e4bfb58a",
   "metadata": {},
   "outputs": [],
   "source": [
    "import numpy as np\n",
    "import pandas as pd\n",
    "from IPython.display import display, HTML"
   ]
  },
  {
   "cell_type": "code",
   "execution_count": 3,
   "id": "e5ae5e53-2d97-49e6-8106-7abb58097914",
   "metadata": {},
   "outputs": [],
   "source": [
    "def termDocMatrix(docs, n):\n",
    "    terms = []\n",
    "    for i in range(n):\n",
    "        terms.extend(docs[i].split())\n",
    "    terms = sorted(list(set(terms)))\n",
    "\n",
    "    mat = np.zeros((len(terms), n), dtype=int)\n",
    "\n",
    "    for i in range(len(terms)):\n",
    "        for j in range(len(docs)):\n",
    "            if terms[i] in docs[j]:\n",
    "                mat[i, j] = 1\n",
    "\n",
    "    data = {\"Terms\": terms}\n",
    "    for i in range(n):\n",
    "        data[f\"Doc{i+1}\"] = mat[:, i]\n",
    "    df = pd.DataFrame(data)\n",
    "    display(HTML(df.to_html(index=False)))\n",
    "    return (terms, mat)"
   ]
  },
  {
   "cell_type": "code",
   "execution_count": 11,
   "id": "ca889ba3",
   "metadata": {},
   "outputs": [
    {
     "name": "stdin",
     "output_type": "stream",
     "text": [
      "Enter the number of documents:  4\n"
     ]
    },
    {
     "name": "stdout",
     "output_type": "stream",
     "text": [
      "Enter the contents of 4 documents: \n"
     ]
    },
    {
     "name": "stdin",
     "output_type": "stream",
     "text": [
      "\tDocument 1:  breakthrough drug for schizophrenia\n",
      "\tDocument 2:  new schizophrenia drug\n",
      "\tDocument 3:  new approach for treatment of schizophrenia\n",
      "\tDocument 4:  new hopes for schizophrenia patients\n"
     ]
    },
    {
     "data": {
      "text/html": [
       "<table border=\"1\" class=\"dataframe\">\n",
       "  <thead>\n",
       "    <tr style=\"text-align: right;\">\n",
       "      <th>Terms</th>\n",
       "      <th>Doc1</th>\n",
       "      <th>Doc2</th>\n",
       "      <th>Doc3</th>\n",
       "      <th>Doc4</th>\n",
       "    </tr>\n",
       "  </thead>\n",
       "  <tbody>\n",
       "    <tr>\n",
       "      <td>approach</td>\n",
       "      <td>0</td>\n",
       "      <td>0</td>\n",
       "      <td>1</td>\n",
       "      <td>0</td>\n",
       "    </tr>\n",
       "    <tr>\n",
       "      <td>breakthrough</td>\n",
       "      <td>1</td>\n",
       "      <td>0</td>\n",
       "      <td>0</td>\n",
       "      <td>0</td>\n",
       "    </tr>\n",
       "    <tr>\n",
       "      <td>drug</td>\n",
       "      <td>1</td>\n",
       "      <td>1</td>\n",
       "      <td>0</td>\n",
       "      <td>0</td>\n",
       "    </tr>\n",
       "    <tr>\n",
       "      <td>for</td>\n",
       "      <td>1</td>\n",
       "      <td>0</td>\n",
       "      <td>1</td>\n",
       "      <td>1</td>\n",
       "    </tr>\n",
       "    <tr>\n",
       "      <td>hopes</td>\n",
       "      <td>0</td>\n",
       "      <td>0</td>\n",
       "      <td>0</td>\n",
       "      <td>1</td>\n",
       "    </tr>\n",
       "    <tr>\n",
       "      <td>new</td>\n",
       "      <td>0</td>\n",
       "      <td>1</td>\n",
       "      <td>1</td>\n",
       "      <td>1</td>\n",
       "    </tr>\n",
       "    <tr>\n",
       "      <td>of</td>\n",
       "      <td>0</td>\n",
       "      <td>0</td>\n",
       "      <td>1</td>\n",
       "      <td>0</td>\n",
       "    </tr>\n",
       "    <tr>\n",
       "      <td>patients</td>\n",
       "      <td>0</td>\n",
       "      <td>0</td>\n",
       "      <td>0</td>\n",
       "      <td>1</td>\n",
       "    </tr>\n",
       "    <tr>\n",
       "      <td>schizophrenia</td>\n",
       "      <td>1</td>\n",
       "      <td>1</td>\n",
       "      <td>1</td>\n",
       "      <td>1</td>\n",
       "    </tr>\n",
       "    <tr>\n",
       "      <td>treatment</td>\n",
       "      <td>0</td>\n",
       "      <td>0</td>\n",
       "      <td>1</td>\n",
       "      <td>0</td>\n",
       "    </tr>\n",
       "  </tbody>\n",
       "</table>"
      ],
      "text/plain": [
       "<IPython.core.display.HTML object>"
      ]
     },
     "metadata": {},
     "output_type": "display_data"
    }
   ],
   "source": [
    "n = int(input(\"Enter the number of documents: \"))\n",
    "docs = []\n",
    "print(f\"Enter the contents of {n} documents: \")\n",
    "for i in range(n):\n",
    "    docs.append(input(f\"\\tDocument {i+1}: \"))\n",
    "terms, mat = termDocMatrix(docs, n)"
   ]
  },
  {
   "cell_type": "markdown",
   "id": "ce30e536-d4ec-4ebe-83c7-a65efbcdaf2a",
   "metadata": {},
   "source": [
    "## 1. b) Process boolean queries"
   ]
  },
  {
   "cell_type": "code",
   "execution_count": 4,
   "id": "987e7dfe-b0c6-4b44-8c0b-15a1f8e77fd3",
   "metadata": {},
   "outputs": [],
   "source": [
    "def binOp(vals, op, n):\n",
    "    ans = []\n",
    "    if op == 'NOT':\n",
    "        ans = [1 if vals[0][i]==0 else 0 for i in range(n)]\n",
    "    elif op == 'AND':\n",
    "        ans = [vals[0][i] & vals[1][i] for i in range(n)]\n",
    "    elif op == 'OR':\n",
    "        ans = [vals[0][i] | vals[1][i] for i in range(n)]\n",
    "    return ans"
   ]
  },
  {
   "cell_type": "code",
   "execution_count": 5,
   "id": "1b8c2d7b-eb79-4869-a5d7-034314cb6f93",
   "metadata": {},
   "outputs": [],
   "source": [
    "def andor(query, n):\n",
    "    vals = []\n",
    "    flag = 0\n",
    "    for i in range(len(query)):\n",
    "        if query[i] not in [\"AND\", \"OR\"]:\n",
    "            vals.append(query[i])\n",
    "            if flag == 1:\n",
    "                vals = binOp(vals, query[i-1], n)\n",
    "                flag = 0\n",
    "        else:\n",
    "            flag = 1\n",
    "    return vals"
   ]
  },
  {
   "cell_type": "code",
   "execution_count": 6,
   "id": "1216583f-104b-42b8-8bd4-0c032e5fcae5",
   "metadata": {},
   "outputs": [],
   "source": [
    "def processQ(query, n):\n",
    "    sIdx = 0\n",
    "    ans = []\n",
    "    while sIdx < len(query):\n",
    "        sIdx = query.index('(') if '(' in query else -1\n",
    "        if sIdx == -1:\n",
    "            break\n",
    "        for i in range(sIdx, len(query)):\n",
    "            idx1 = query.index('(', sIdx) if '(' in query else -1\n",
    "            idx2 = query.index(')', sIdx) if ')' in query else -1\n",
    "            if idx1 > idx2: break\n",
    "            sIdx = idx1 if idx1 != -1 else sIdx\n",
    "        eIdx = query.index(')', sIdx)\n",
    "        ans = processQ(query[sIdx+1:eIdx], n)\n",
    "        del query[sIdx+1:eIdx+1]\n",
    "        query[sIdx] = ans\n",
    "    idx = 0\n",
    "    while idx < len(query):\n",
    "        idx = query.index(\"NOT\") if \"NOT\" in query else -1\n",
    "        if idx == -1:\n",
    "            break\n",
    "        ans = binOp([query[idx+1]], \"NOT\", n)\n",
    "        del query[idx+1]\n",
    "        query[idx] = ans\n",
    "    query = andor(query, n)\n",
    "    return query"
   ]
  },
  {
   "cell_type": "code",
   "execution_count": 10,
   "id": "380d55d6-2590-4e52-9708-07d18bee4f24",
   "metadata": {},
   "outputs": [
    {
     "name": "stdin",
     "output_type": "stream",
     "text": [
      "Enter the number of documents:  4\n"
     ]
    },
    {
     "name": "stdout",
     "output_type": "stream",
     "text": [
      "Enter the contents of 4 documents: \n"
     ]
    },
    {
     "name": "stdin",
     "output_type": "stream",
     "text": [
      "\tDocument 1:  breakthrough drug for schizophrenia\n",
      "\tDocument 2:  new schizophrenia drug\n",
      "\tDocument 3:  new approach for treatment of schizophrenia\n",
      "\tDocument 4:  new hopes for schizophrenia patients\n",
      "Enter the boolean query: sxchi AND new\n"
     ]
    },
    {
     "data": {
      "text/html": [
       "<table border=\"1\" class=\"dataframe\">\n",
       "  <thead>\n",
       "    <tr style=\"text-align: right;\">\n",
       "      <th>Terms</th>\n",
       "      <th>Doc1</th>\n",
       "      <th>Doc2</th>\n",
       "      <th>Doc3</th>\n",
       "      <th>Doc4</th>\n",
       "    </tr>\n",
       "  </thead>\n",
       "  <tbody>\n",
       "    <tr>\n",
       "      <td>approach</td>\n",
       "      <td>0</td>\n",
       "      <td>0</td>\n",
       "      <td>1</td>\n",
       "      <td>0</td>\n",
       "    </tr>\n",
       "    <tr>\n",
       "      <td>breakthrough</td>\n",
       "      <td>1</td>\n",
       "      <td>0</td>\n",
       "      <td>0</td>\n",
       "      <td>0</td>\n",
       "    </tr>\n",
       "    <tr>\n",
       "      <td>drug</td>\n",
       "      <td>1</td>\n",
       "      <td>1</td>\n",
       "      <td>0</td>\n",
       "      <td>0</td>\n",
       "    </tr>\n",
       "    <tr>\n",
       "      <td>for</td>\n",
       "      <td>1</td>\n",
       "      <td>0</td>\n",
       "      <td>1</td>\n",
       "      <td>1</td>\n",
       "    </tr>\n",
       "    <tr>\n",
       "      <td>hopes</td>\n",
       "      <td>0</td>\n",
       "      <td>0</td>\n",
       "      <td>0</td>\n",
       "      <td>1</td>\n",
       "    </tr>\n",
       "    <tr>\n",
       "      <td>new</td>\n",
       "      <td>0</td>\n",
       "      <td>1</td>\n",
       "      <td>1</td>\n",
       "      <td>1</td>\n",
       "    </tr>\n",
       "    <tr>\n",
       "      <td>of</td>\n",
       "      <td>0</td>\n",
       "      <td>0</td>\n",
       "      <td>1</td>\n",
       "      <td>0</td>\n",
       "    </tr>\n",
       "    <tr>\n",
       "      <td>patients</td>\n",
       "      <td>0</td>\n",
       "      <td>0</td>\n",
       "      <td>0</td>\n",
       "      <td>1</td>\n",
       "    </tr>\n",
       "    <tr>\n",
       "      <td>schizophrenia</td>\n",
       "      <td>1</td>\n",
       "      <td>1</td>\n",
       "      <td>1</td>\n",
       "      <td>1</td>\n",
       "    </tr>\n",
       "    <tr>\n",
       "      <td>treatment</td>\n",
       "      <td>0</td>\n",
       "      <td>0</td>\n",
       "      <td>1</td>\n",
       "      <td>0</td>\n",
       "    </tr>\n",
       "  </tbody>\n",
       "</table>"
      ],
      "text/plain": [
       "<IPython.core.display.HTML object>"
      ]
     },
     "metadata": {},
     "output_type": "display_data"
    },
    {
     "name": "stdout",
     "output_type": "stream",
     "text": [
      "The request query is processed and the documents are: \n"
     ]
    }
   ],
   "source": [
    "n = int(input(\"Enter the number of documents: \"))\n",
    "docs = []\n",
    "print(f\"Enter the contents of {n} documents: \")\n",
    "for i in range(n):\n",
    "    docs.append(input(f\"\\tDocument {i+1}: \"))\n",
    "query = input(\"Enter the boolean query:\").split()\n",
    "# flag = 0\n",
    "terms, mat = termDocMatrix(docs, n)\n",
    "for i in range(len(query)):\n",
    "    if query[i] in terms:\n",
    "        query[i] = list(mat[terms.index(query[i]), :])\n",
    "    elif query[i] in [\"(\", \")\", \"NOT\", \"AND\", \"OR\"]:\n",
    "        continue\n",
    "    else:\n",
    "        query[i] = [0 for i in range(n)]\n",
    "        \n",
    "ans = processQ(query, 4)\n",
    "print(\"The request query is processed and the documents are: \")\n",
    "for i in range(n):\n",
    "    if ans[i] == 1:\n",
    "        print(f\"Document{i+1}: \", docs[i])"
   ]
  }
 ],
 "metadata": {
  "kernelspec": {
   "display_name": "Python 3 (ipykernel)",
   "language": "python",
   "name": "python3"
  },
  "language_info": {
   "codemirror_mode": {
    "name": "ipython",
    "version": 3
   },
   "file_extension": ".py",
   "mimetype": "text/x-python",
   "name": "python",
   "nbconvert_exporter": "python",
   "pygments_lexer": "ipython3",
   "version": "3.11.4"
  }
 },
 "nbformat": 4,
 "nbformat_minor": 5
}
