{
 "cells": [
  {
   "cell_type": "markdown",
   "id": "b811ded0-4c4a-4f5f-875f-80aa84704202",
   "metadata": {},
   "source": [
    "# Naive Bayes"
   ]
  },
  {
   "cell_type": "code",
   "execution_count": 5,
   "id": "dffb9e47-f520-4b97-b86d-9937c6a37546",
   "metadata": {},
   "outputs": [
    {
     "name": "stdout",
     "output_type": "stream",
     "text": [
      "Select appropriate option for Outlook\n",
      "1-->overcast\n",
      "2-->rainy\n",
      "3-->sunny\n"
     ]
    },
    {
     "name": "stdin",
     "output_type": "stream",
     "text": [
      "Enter option: 3\n"
     ]
    },
    {
     "name": "stdout",
     "output_type": "stream",
     "text": [
      "Select appropriate option for Temperature\n",
      "1-->mild\n",
      "2-->cool\n",
      "3-->hot\n"
     ]
    },
    {
     "name": "stdin",
     "output_type": "stream",
     "text": [
      "Enter option: 1\n"
     ]
    },
    {
     "name": "stdout",
     "output_type": "stream",
     "text": [
      "Select appropriate option for Humidity\n",
      "1-->normal\n",
      "2-->high\n"
     ]
    },
    {
     "name": "stdin",
     "output_type": "stream",
     "text": [
      "Enter option: 2\n"
     ]
    },
    {
     "name": "stdout",
     "output_type": "stream",
     "text": [
      "Select appropriate option for Windy\n",
      "1-->False\n",
      "2-->True\n"
     ]
    },
    {
     "name": "stdin",
     "output_type": "stream",
     "text": [
      "Enter option: 1\n"
     ]
    },
    {
     "name": "stdout",
     "output_type": "stream",
     "text": [
      "For given input = ['sunny', 'mild', 'high', False]\n",
      "Decision for the value = Play is no\n"
     ]
    }
   ],
   "source": [
    "import numpy as np\n",
    "import pandas as pd\n",
    "data=pd.read_csv(\"golf_df.csv\")\n",
    "col=list(data.columns)\n",
    "def makecounts(l):\n",
    "    q=list(set(l))\n",
    "    c=[]\n",
    "    for i in q:\n",
    "        c.append(l.count(i))\n",
    "    return [q,c]\n",
    "arr=[]\n",
    "for i in col:\n",
    "    l=list(data[i])\n",
    "    arr.append(makecounts(l))\n",
    "inp=[]\n",
    "for i in range(len(col)-1):\n",
    "    print('Select appropriate option for',col[i])\n",
    "    for j in range(len(arr[i][0])):\n",
    "        print(j+1,arr[i][0][j],sep='-->')\n",
    "    x=int(input(\"Enter option:\"))\n",
    "    inp.append(arr[i][0][x-1])\n",
    "data.set_index(['Play']).sort_index()\n",
    "Po=[]\n",
    "for i in range(len(arr[-1][1])):\n",
    "    Po.append(arr[-1][1][i]/sum(arr[-1][1]))\n",
    "fin=[]\n",
    "for i in range(len(Po)):\n",
    "    l=[]\n",
    "    for j in range(len(inp)):\n",
    "        des=list(data[col[-1]])\n",
    "        ref=list(data[col[j]])\n",
    "        c=0\n",
    "        for k in range(len(des)):\n",
    "            if ref[k]==inp[j] and des[k]==arr[-1][0][i]:\n",
    "                c+=1\n",
    "        l.append(c)\n",
    "    fin.append(l)\n",
    "    fin[i]=np.prod(np.array(fin[i])/arr[-1][1][i])*Po[i]\n",
    "print('For given input =',inp)\n",
    "print(f'Decision for the value = {col[-1]} is {arr[-1][0][fin.index(max(fin))]}')"
   ]
  }
 ],
 "metadata": {
  "kernelspec": {
   "display_name": "Python 3 (ipykernel)",
   "language": "python",
   "name": "python3"
  },
  "language_info": {
   "codemirror_mode": {
    "name": "ipython",
    "version": 3
   },
   "file_extension": ".py",
   "mimetype": "text/x-python",
   "name": "python",
   "nbconvert_exporter": "python",
   "pygments_lexer": "ipython3",
   "version": "3.11.4"
  }
 },
 "nbformat": 4,
 "nbformat_minor": 5
}
