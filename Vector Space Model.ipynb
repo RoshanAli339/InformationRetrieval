{
 "cells": [
  {
   "cell_type": "markdown",
   "id": "d4734d4f",
   "metadata": {},
   "source": [
    "# Vector Space Model"
   ]
  },
  {
   "cell_type": "code",
   "execution_count": 141,
   "id": "4cc89011",
   "metadata": {},
   "outputs": [],
   "source": [
    "import pandas as pd\n",
    "import math\n",
    "import numpy as np"
   ]
  },
  {
   "cell_type": "code",
   "execution_count": 146,
   "id": "98f128e0",
   "metadata": {},
   "outputs": [],
   "source": [
    "class VSM:\n",
    "    \n",
    "    def __init__(self):\n",
    "        self.tf_idf = pd.DataFrame()\n",
    "        self.idf = []\n",
    "        self.docs = []\n",
    "        self.terms = []\n",
    "        \n",
    "    def buildVectorSpace(self):\n",
    "#         for i in range(1, 21):\n",
    "#             with open(f\"Data/doc{i}.txt\") as f:\n",
    "#                 text = f.read()\n",
    "#                 text = text.lower()\n",
    "#                 self.docs.append(text)\n",
    "#                 self.terms.extend(text.split())\n",
    "        n = int(input(\"Enter the number of documents: \"))\n",
    "        print(\"Enter the text: \")\n",
    "        for i in range(n):\n",
    "            text = input().lower()\n",
    "            self.docs.append(text)\n",
    "            self.terms.extend(text.split())\n",
    "        \n",
    "        self.terms = sorted(list(set(self.terms)))\n",
    "        self.idf = [0 for i in range(len(self.terms))]\n",
    "        self.tf_idf = pd.DataFrame([[0 for i in range(n)] for j in range(len(self.terms))])\n",
    "        self.tf_idf.columns = [f'Doc{i}' for i in range(1, n+1)]\n",
    "        self.tf_idf.index = self.terms\n",
    "        \n",
    "        for i in range(len(self.terms)):\n",
    "            for j in range(len(self.docs)):\n",
    "                if self.docs[j].count(self.terms[i]) != 0:\n",
    "                    tf = 1 + math.log10(self.docs[j].count(self.terms[i]))\n",
    "                else:\n",
    "                    tf = 0\n",
    "                self.tf_idf.iloc[i, j] = tf\n",
    "        for i in range(len(self.terms)):\n",
    "            self.idf[i] = math.log10(len(self.docs) / (self.tf_idf.iloc[i] != 0).sum())\n",
    "            self.tf_idf.iloc[i] *= self.idf[i]\n",
    "        \n",
    "    def cosineSimilarity(self, vec1, vec2):\n",
    "        dotProduct = vec1.dot(vec2)\n",
    "        normVec1 = np.linalg.norm(vec1)\n",
    "        normVec2 = np.linalg.norm(vec2)\n",
    "        \n",
    "        if normVec1 != 0 and normVec2 != 0:\n",
    "            return dotProduct / (normVec1 * normVec2)\n",
    "        else:\n",
    "            return 0\n",
    "        \n",
    "    def queryVector(self, query):\n",
    "        cosineSim = []\n",
    "        queryTerms = query.lower().split()\n",
    "        queryVec = pd.Series([0] * len(self.terms), index=self.terms)\n",
    "        \n",
    "        for qTerm in queryTerms:\n",
    "            queryVec[qTerm] = 1\n",
    "        \n",
    "        for i in range(len(self.docs)):\n",
    "            cosineSim.append(self.cosineSimilarity(queryVec, self.tf_idf.iloc[:, i]))\n",
    "            \n",
    "        print(cosineSim)"
   ]
  },
  {
   "cell_type": "code",
   "execution_count": 149,
   "id": "0b7db077",
   "metadata": {},
   "outputs": [
    {
     "name": "stdout",
     "output_type": "stream",
     "text": [
      "Enter the number of documents: 4\n",
      "Enter the text: \n",
      "purdue information retrieval purdue information purdue information purdue\n",
      "retrieval retrieval retrieval\n",
      "purdue retrieval purdue retrieval retrieval\n",
      "purdue information information information retrieval retrieval retrieval\n"
     ]
    }
   ],
   "source": [
    "vsm = VSM()\n",
    "vsm.buildVectorSpace()"
   ]
  },
  {
   "cell_type": "code",
   "execution_count": 151,
   "id": "5fc8fd53",
   "metadata": {},
   "outputs": [
    {
     "data": {
      "text/html": [
       "<div>\n",
       "<style scoped>\n",
       "    .dataframe tbody tr th:only-of-type {\n",
       "        vertical-align: middle;\n",
       "    }\n",
       "\n",
       "    .dataframe tbody tr th {\n",
       "        vertical-align: top;\n",
       "    }\n",
       "\n",
       "    .dataframe thead th {\n",
       "        text-align: right;\n",
       "    }\n",
       "</style>\n",
       "<table border=\"1\" class=\"dataframe\">\n",
       "  <thead>\n",
       "    <tr style=\"text-align: right;\">\n",
       "      <th></th>\n",
       "      <th>Doc1</th>\n",
       "      <th>Doc2</th>\n",
       "      <th>Doc3</th>\n",
       "      <th>Doc4</th>\n",
       "    </tr>\n",
       "  </thead>\n",
       "  <tbody>\n",
       "    <tr>\n",
       "      <th>information</th>\n",
       "      <td>0.444658</td>\n",
       "      <td>0.0</td>\n",
       "      <td>0.000000</td>\n",
       "      <td>0.444658</td>\n",
       "    </tr>\n",
       "    <tr>\n",
       "      <th>purdue</th>\n",
       "      <td>0.200159</td>\n",
       "      <td>0.0</td>\n",
       "      <td>0.162549</td>\n",
       "      <td>0.124939</td>\n",
       "    </tr>\n",
       "    <tr>\n",
       "      <th>retrieval</th>\n",
       "      <td>0.000000</td>\n",
       "      <td>0.0</td>\n",
       "      <td>0.000000</td>\n",
       "      <td>0.000000</td>\n",
       "    </tr>\n",
       "  </tbody>\n",
       "</table>\n",
       "</div>"
      ],
      "text/plain": [
       "                 Doc1  Doc2      Doc3      Doc4\n",
       "information  0.444658   0.0  0.000000  0.444658\n",
       "purdue       0.200159   0.0  0.162549  0.124939\n",
       "retrieval    0.000000   0.0  0.000000  0.000000"
      ]
     },
     "execution_count": 151,
     "metadata": {},
     "output_type": "execute_result"
    }
   ],
   "source": [
    "vsm.tf_idf"
   ]
  },
  {
   "cell_type": "code",
   "execution_count": 150,
   "id": "c22ed47c",
   "metadata": {},
   "outputs": [
    {
     "name": "stdout",
     "output_type": "stream",
     "text": [
      "[0.9350395287975549, 0, 0.7071067811865475, 0.8720193526552085]\n"
     ]
    }
   ],
   "source": [
    "query = \"purdue information\"\n",
    "vsm.queryVector(query)"
   ]
  }
 ],
 "metadata": {
  "kernelspec": {
   "display_name": "Python 3 (ipykernel)",
   "language": "python",
   "name": "python3"
  },
  "language_info": {
   "codemirror_mode": {
    "name": "ipython",
    "version": 3
   },
   "file_extension": ".py",
   "mimetype": "text/x-python",
   "name": "python",
   "nbconvert_exporter": "python",
   "pygments_lexer": "ipython3",
   "version": "3.11.4"
  }
 },
 "nbformat": 4,
 "nbformat_minor": 5
}
