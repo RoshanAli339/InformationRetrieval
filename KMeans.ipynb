{
 "cells": [
  {
   "cell_type": "markdown",
   "id": "b9d91ece-277a-4307-9b32-f09c5ef54be4",
   "metadata": {},
   "source": [
    "# K-Means Clustering"
   ]
  },
  {
   "cell_type": "code",
   "execution_count": 38,
   "id": "ebafe8f4-35fb-4056-8568-f015231be7dd",
   "metadata": {},
   "outputs": [],
   "source": [
    "import pandas as pd\n",
    "import numpy as np\n",
    "import os\n",
    "from nltk.corpus import stopwords\n",
    "import collections"
   ]
  },
  {
   "cell_type": "code",
   "execution_count": 39,
   "id": "7e8bf95e-1dbf-4f3c-a259-92b76e95ebab",
   "metadata": {},
   "outputs": [],
   "source": [
    "stopWords = set(stopwords.words('english'))"
   ]
  }
 ],
 "metadata": {
  "kernelspec": {
   "display_name": "Python 3 (ipykernel)",
   "language": "python",
   "name": "python3"
  },
  "language_info": {
   "codemirror_mode": {
    "name": "ipython",
    "version": 3
   },
   "file_extension": ".py",
   "mimetype": "text/x-python",
   "name": "python",
   "nbconvert_exporter": "python",
   "pygments_lexer": "ipython3",
   "version": "3.11.4"
  }
 },
 "nbformat": 4,
 "nbformat_minor": 5
}
