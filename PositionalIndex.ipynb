{
 "cells": [
  {
   "cell_type": "markdown",
   "id": "5b5248f1",
   "metadata": {},
   "source": [
    "## Positional Index"
   ]
  },
  {
   "cell_type": "code",
   "execution_count": 44,
   "id": "3c7eabaa",
   "metadata": {},
   "outputs": [],
   "source": [
    "class PositionalIndex:\n",
    "    \n",
    "    def __init__(self):\n",
    "        self.index = {}\n",
    "        \n",
    "        \n",
    "    def buildIndex(self):\n",
    "        for i in range(1, 5):\n",
    "            with open(f\"Data\\doc{i}.txt\", \"r\") as f:\n",
    "                text = f.read()\n",
    "                text = text.lower()\n",
    "                text = text.split()\n",
    "            for j in range(len(text)):\n",
    "                if text[j] in self.index:\n",
    "                    if i in self.index[text[j]]:\n",
    "                        self.index[text[j]][i][0] += 1\n",
    "                        self.index[text[j]][i][1].append(j)\n",
    "                    else:    \n",
    "                        self.index[text[j]].update({i: [1, [j]]})\n",
    "                else:\n",
    "                    self.index[text[j]] = {i: [1, [j]]}\n",
    "#         for k, v in self.index.items():\n",
    "#             print(\"Term:\", k)\n",
    "#             for docId, vals in v.items():\n",
    "#                 print(\"\\tDocId:\", docId)\n",
    "#                 print(\"\\tFrequency:\", vals[0])\n",
    "#                 print(\"\\tPositions:\", vals[1])"
   ]
  }
 ],
 "metadata": {
  "kernelspec": {
   "display_name": "Python 3 (ipykernel)",
   "language": "python",
   "name": "python3"
  },
  "language_info": {
   "codemirror_mode": {
    "name": "ipython",
    "version": 3
   },
   "file_extension": ".py",
   "mimetype": "text/x-python",
   "name": "python",
   "nbconvert_exporter": "python",
   "pygments_lexer": "ipython3",
   "version": "3.11.4"
  }
 },
 "nbformat": 4,
 "nbformat_minor": 5
}
