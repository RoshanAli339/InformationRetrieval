{
 "cells": [
  {
   "cell_type": "markdown",
   "id": "5b5248f1",
   "metadata": {},
   "source": [
    "# 4. a) Create positional index from the given documents"
   ]
  },
  {
   "cell_type": "code",
   "execution_count": 1,
   "id": "3c7eabaa",
   "metadata": {},
   "outputs": [],
   "source": [
    "class PositionalIndex:\n",
    "    \n",
    "    def __init__(self):\n",
    "        self.index = {}\n",
    "        \n",
    "        \n",
    "    def buildIndex(self):\n",
    "        for i in range(1, 21):\n",
    "            with open(f\"Data\\doc{i}.txt\", \"r\") as f:\n",
    "                text = f.read()\n",
    "                text = text.lower()\n",
    "                text = text.split()\n",
    "            for j in range(len(text)):\n",
    "                if text[j] in self.index:\n",
    "                    if i in self.index[text[j]]:\n",
    "                        self.index[text[j]][i][0] += 1\n",
    "                        self.index[text[j]][i][1].append(j)\n",
    "                    else:    \n",
    "                        self.index[text[j]].update({i: [1, [j]]})\n",
    "                else:\n",
    "                    self.index[text[j]] = {i: [1, [j]]}"
   ]
  },
  {
   "cell_type": "markdown",
   "id": "7ebb23eb",
   "metadata": {},
   "source": [
    "# 4. b) Process phrase queries from Positional Index"
   ]
  },
  {
   "cell_type": "code",
   "execution_count": 2,
   "id": "34f22554",
   "metadata": {},
   "outputs": [],
   "source": [
    "class Query:\n",
    "    \n",
    "    def __init__(self, query):\n",
    "        self.query = query\n",
    "        self.query = self.query.replace('(', '( ')\n",
    "        self.query = self.query.replace(')', ' )')\n",
    "        self.pos = PositionalIndex()\n",
    "        self.pos.buildIndex()\n",
    "    \n",
    "    def processPositional(self):\n",
    "        if self.query == '':\n",
    "            return []\n",
    "        queryPos = self.query.split()\n",
    "        ans = []\n",
    "        if queryPos[0] in self.pos.index:\n",
    "            first = self.pos.index[queryPos[0]]\n",
    "        else:\n",
    "            return []\n",
    "        for docId, vals in first.items():\n",
    "            count = 0\n",
    "            for i in range(1, len(queryPos)):\n",
    "                if docId not in self.pos.index[queryPos[i]]:\n",
    "                   break\n",
    "                postings1 = vals[1]\n",
    "                postings2 = self.pos.index[queryPos[i]][docId][1]\n",
    "                for x in postings1:\n",
    "                    for y in postings2:\n",
    "                        if y < x:\n",
    "                            break\n",
    "                        elif abs(x - y) == i:\n",
    "                            count += 1\n",
    "            if count == len(queryPos)-1:\n",
    "                ans.append(docId)\n",
    "        return ans"
   ]
  },
  {
   "cell_type": "code",
   "execution_count": 3,
   "id": "35f2fbbf",
   "metadata": {},
   "outputs": [
    {
     "name": "stdout",
     "output_type": "stream",
     "text": [
      "[8]\n"
     ]
    }
   ],
   "source": [
    "query = \"systems powered by ai\"\n",
    "q = Query(query)\n",
    "ans = q.processPositional()\n",
    "print(ans)"
   ]
  }
 ],
 "metadata": {
  "kernelspec": {
   "display_name": "Python 3 (ipykernel)",
   "language": "python",
   "name": "python3"
  },
  "language_info": {
   "codemirror_mode": {
    "name": "ipython",
    "version": 3
   },
   "file_extension": ".py",
   "mimetype": "text/x-python",
   "name": "python",
   "nbconvert_exporter": "python",
   "pygments_lexer": "ipython3",
   "version": "3.11.4"
  }
 },
 "nbformat": 4,
 "nbformat_minor": 5
}
